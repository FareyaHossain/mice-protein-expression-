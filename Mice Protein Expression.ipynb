{
  "cells": [
    {
      "cell_type": "code",
      "execution_count": null,
      "metadata": {
        "id": "at1jmEf-Iasq"
      },
      "outputs": [],
      "source": [
        "import pandas as pd\n",
        "import matplotlib.pyplot as plt\n",
        "import numpy as np"
      ]
    },
    {
      "cell_type": "code",
      "source": [
        "from google.colab import files\n",
        "uploaded = files.upload()"
      ],
      "metadata": {
        "colab": {
          "base_uri": "https://localhost:8080/",
          "height": 73
        },
        "id": "50i_RQYpqERL",
        "outputId": "0a372cfe-dfd3-42ae-ea77-f9f3e2b83c76"
      },
      "execution_count": null,
      "outputs": [
        {
          "output_type": "display_data",
          "data": {
            "text/plain": [
              "<IPython.core.display.HTML object>"
            ],
            "text/html": [
              "\n",
              "     <input type=\"file\" id=\"files-aaa4a84f-2463-498f-9b2d-a4d4615ca7a8\" name=\"files[]\" multiple disabled\n",
              "        style=\"border:none\" />\n",
              "     <output id=\"result-aaa4a84f-2463-498f-9b2d-a4d4615ca7a8\">\n",
              "      Upload widget is only available when the cell has been executed in the\n",
              "      current browser session. Please rerun this cell to enable.\n",
              "      </output>\n",
              "      <script>// Copyright 2017 Google LLC\n",
              "//\n",
              "// Licensed under the Apache License, Version 2.0 (the \"License\");\n",
              "// you may not use this file except in compliance with the License.\n",
              "// You may obtain a copy of the License at\n",
              "//\n",
              "//      http://www.apache.org/licenses/LICENSE-2.0\n",
              "//\n",
              "// Unless required by applicable law or agreed to in writing, software\n",
              "// distributed under the License is distributed on an \"AS IS\" BASIS,\n",
              "// WITHOUT WARRANTIES OR CONDITIONS OF ANY KIND, either express or implied.\n",
              "// See the License for the specific language governing permissions and\n",
              "// limitations under the License.\n",
              "\n",
              "/**\n",
              " * @fileoverview Helpers for google.colab Python module.\n",
              " */\n",
              "(function(scope) {\n",
              "function span(text, styleAttributes = {}) {\n",
              "  const element = document.createElement('span');\n",
              "  element.textContent = text;\n",
              "  for (const key of Object.keys(styleAttributes)) {\n",
              "    element.style[key] = styleAttributes[key];\n",
              "  }\n",
              "  return element;\n",
              "}\n",
              "\n",
              "// Max number of bytes which will be uploaded at a time.\n",
              "const MAX_PAYLOAD_SIZE = 100 * 1024;\n",
              "\n",
              "function _uploadFiles(inputId, outputId) {\n",
              "  const steps = uploadFilesStep(inputId, outputId);\n",
              "  const outputElement = document.getElementById(outputId);\n",
              "  // Cache steps on the outputElement to make it available for the next call\n",
              "  // to uploadFilesContinue from Python.\n",
              "  outputElement.steps = steps;\n",
              "\n",
              "  return _uploadFilesContinue(outputId);\n",
              "}\n",
              "\n",
              "// This is roughly an async generator (not supported in the browser yet),\n",
              "// where there are multiple asynchronous steps and the Python side is going\n",
              "// to poll for completion of each step.\n",
              "// This uses a Promise to block the python side on completion of each step,\n",
              "// then passes the result of the previous step as the input to the next step.\n",
              "function _uploadFilesContinue(outputId) {\n",
              "  const outputElement = document.getElementById(outputId);\n",
              "  const steps = outputElement.steps;\n",
              "\n",
              "  const next = steps.next(outputElement.lastPromiseValue);\n",
              "  return Promise.resolve(next.value.promise).then((value) => {\n",
              "    // Cache the last promise value to make it available to the next\n",
              "    // step of the generator.\n",
              "    outputElement.lastPromiseValue = value;\n",
              "    return next.value.response;\n",
              "  });\n",
              "}\n",
              "\n",
              "/**\n",
              " * Generator function which is called between each async step of the upload\n",
              " * process.\n",
              " * @param {string} inputId Element ID of the input file picker element.\n",
              " * @param {string} outputId Element ID of the output display.\n",
              " * @return {!Iterable<!Object>} Iterable of next steps.\n",
              " */\n",
              "function* uploadFilesStep(inputId, outputId) {\n",
              "  const inputElement = document.getElementById(inputId);\n",
              "  inputElement.disabled = false;\n",
              "\n",
              "  const outputElement = document.getElementById(outputId);\n",
              "  outputElement.innerHTML = '';\n",
              "\n",
              "  const pickedPromise = new Promise((resolve) => {\n",
              "    inputElement.addEventListener('change', (e) => {\n",
              "      resolve(e.target.files);\n",
              "    });\n",
              "  });\n",
              "\n",
              "  const cancel = document.createElement('button');\n",
              "  inputElement.parentElement.appendChild(cancel);\n",
              "  cancel.textContent = 'Cancel upload';\n",
              "  const cancelPromise = new Promise((resolve) => {\n",
              "    cancel.onclick = () => {\n",
              "      resolve(null);\n",
              "    };\n",
              "  });\n",
              "\n",
              "  // Wait for the user to pick the files.\n",
              "  const files = yield {\n",
              "    promise: Promise.race([pickedPromise, cancelPromise]),\n",
              "    response: {\n",
              "      action: 'starting',\n",
              "    }\n",
              "  };\n",
              "\n",
              "  cancel.remove();\n",
              "\n",
              "  // Disable the input element since further picks are not allowed.\n",
              "  inputElement.disabled = true;\n",
              "\n",
              "  if (!files) {\n",
              "    return {\n",
              "      response: {\n",
              "        action: 'complete',\n",
              "      }\n",
              "    };\n",
              "  }\n",
              "\n",
              "  for (const file of files) {\n",
              "    const li = document.createElement('li');\n",
              "    li.append(span(file.name, {fontWeight: 'bold'}));\n",
              "    li.append(span(\n",
              "        `(${file.type || 'n/a'}) - ${file.size} bytes, ` +\n",
              "        `last modified: ${\n",
              "            file.lastModifiedDate ? file.lastModifiedDate.toLocaleDateString() :\n",
              "                                    'n/a'} - `));\n",
              "    const percent = span('0% done');\n",
              "    li.appendChild(percent);\n",
              "\n",
              "    outputElement.appendChild(li);\n",
              "\n",
              "    const fileDataPromise = new Promise((resolve) => {\n",
              "      const reader = new FileReader();\n",
              "      reader.onload = (e) => {\n",
              "        resolve(e.target.result);\n",
              "      };\n",
              "      reader.readAsArrayBuffer(file);\n",
              "    });\n",
              "    // Wait for the data to be ready.\n",
              "    let fileData = yield {\n",
              "      promise: fileDataPromise,\n",
              "      response: {\n",
              "        action: 'continue',\n",
              "      }\n",
              "    };\n",
              "\n",
              "    // Use a chunked sending to avoid message size limits. See b/62115660.\n",
              "    let position = 0;\n",
              "    do {\n",
              "      const length = Math.min(fileData.byteLength - position, MAX_PAYLOAD_SIZE);\n",
              "      const chunk = new Uint8Array(fileData, position, length);\n",
              "      position += length;\n",
              "\n",
              "      const base64 = btoa(String.fromCharCode.apply(null, chunk));\n",
              "      yield {\n",
              "        response: {\n",
              "          action: 'append',\n",
              "          file: file.name,\n",
              "          data: base64,\n",
              "        },\n",
              "      };\n",
              "\n",
              "      let percentDone = fileData.byteLength === 0 ?\n",
              "          100 :\n",
              "          Math.round((position / fileData.byteLength) * 100);\n",
              "      percent.textContent = `${percentDone}% done`;\n",
              "\n",
              "    } while (position < fileData.byteLength);\n",
              "  }\n",
              "\n",
              "  // All done.\n",
              "  yield {\n",
              "    response: {\n",
              "      action: 'complete',\n",
              "    }\n",
              "  };\n",
              "}\n",
              "\n",
              "scope.google = scope.google || {};\n",
              "scope.google.colab = scope.google.colab || {};\n",
              "scope.google.colab._files = {\n",
              "  _uploadFiles,\n",
              "  _uploadFilesContinue,\n",
              "};\n",
              "})(self);\n",
              "</script> "
            ]
          },
          "metadata": {}
        },
        {
          "output_type": "stream",
          "name": "stdout",
          "text": [
            "Saving Mice_protein_expression_dataset.xls to Mice_protein_expression_dataset.xls\n"
          ]
        }
      ]
    },
    {
      "cell_type": "code",
      "source": [
        "import pandas as pd\n",
        "df = pd.read_excel('/content/Mice_protein_expression_dataset.xls')\n",
        "df.head()"
      ],
      "metadata": {
        "colab": {
          "base_uri": "https://localhost:8080/",
          "height": 342
        },
        "id": "qLpn2C1IRD6S",
        "outputId": "4fb710b3-b6a0-4e8c-f0f2-857b565f3260"
      },
      "execution_count": null,
      "outputs": [
        {
          "output_type": "execute_result",
          "data": {
            "text/plain": [
              "  MouseID  DYRK1A_N   ITSN1_N    BDNF_N     NR1_N    NR2A_N    pAKT_N  \\\n",
              "0   309_1  0.503644  0.747193  0.430175  2.816329  5.990152  0.218830   \n",
              "1   309_2  0.514617  0.689064  0.411770  2.789514  5.685038  0.211636   \n",
              "2   309_3  0.509183  0.730247  0.418309  2.687201  5.622059  0.209011   \n",
              "3   309_4  0.442107  0.617076  0.358626  2.466947  4.979503  0.222886   \n",
              "4   309_5  0.434940  0.617430  0.358802  2.365785  4.718679  0.213106   \n",
              "\n",
              "    pBRAF_N  pCAMKII_N   pCREB_N  ...   pCFOS_N     SYP_N  H3AcK18_N  \\\n",
              "0  0.177565   2.373744  0.232224  ...  0.108336  0.427099   0.114783   \n",
              "1  0.172817   2.292150  0.226972  ...  0.104315  0.441581   0.111974   \n",
              "2  0.175722   2.283337  0.230247  ...  0.106219  0.435777   0.111883   \n",
              "3  0.176463   2.152301  0.207004  ...  0.111262  0.391691   0.130405   \n",
              "4  0.173627   2.134014  0.192158  ...  0.110694  0.434154   0.118481   \n",
              "\n",
              "     EGR1_N  H3MeK4_N    CaNA_N  Genotype  Treatment  Behavior   class  \n",
              "0  0.131790  0.128186  1.675652   Control  Memantine       C/S  c-CS-m  \n",
              "1  0.135103  0.131119  1.743610   Control  Memantine       C/S  c-CS-m  \n",
              "2  0.133362  0.127431  1.926427   Control  Memantine       C/S  c-CS-m  \n",
              "3  0.147444  0.146901  1.700563   Control  Memantine       C/S  c-CS-m  \n",
              "4  0.140314  0.148380  1.839730   Control  Memantine       C/S  c-CS-m  \n",
              "\n",
              "[5 rows x 82 columns]"
            ],
            "text/html": [
              "\n",
              "  <div id=\"df-8a6ddc0e-2e91-4d85-b908-40afd7a613b6\" class=\"colab-df-container\">\n",
              "    <div>\n",
              "<style scoped>\n",
              "    .dataframe tbody tr th:only-of-type {\n",
              "        vertical-align: middle;\n",
              "    }\n",
              "\n",
              "    .dataframe tbody tr th {\n",
              "        vertical-align: top;\n",
              "    }\n",
              "\n",
              "    .dataframe thead th {\n",
              "        text-align: right;\n",
              "    }\n",
              "</style>\n",
              "<table border=\"1\" class=\"dataframe\">\n",
              "  <thead>\n",
              "    <tr style=\"text-align: right;\">\n",
              "      <th></th>\n",
              "      <th>MouseID</th>\n",
              "      <th>DYRK1A_N</th>\n",
              "      <th>ITSN1_N</th>\n",
              "      <th>BDNF_N</th>\n",
              "      <th>NR1_N</th>\n",
              "      <th>NR2A_N</th>\n",
              "      <th>pAKT_N</th>\n",
              "      <th>pBRAF_N</th>\n",
              "      <th>pCAMKII_N</th>\n",
              "      <th>pCREB_N</th>\n",
              "      <th>...</th>\n",
              "      <th>pCFOS_N</th>\n",
              "      <th>SYP_N</th>\n",
              "      <th>H3AcK18_N</th>\n",
              "      <th>EGR1_N</th>\n",
              "      <th>H3MeK4_N</th>\n",
              "      <th>CaNA_N</th>\n",
              "      <th>Genotype</th>\n",
              "      <th>Treatment</th>\n",
              "      <th>Behavior</th>\n",
              "      <th>class</th>\n",
              "    </tr>\n",
              "  </thead>\n",
              "  <tbody>\n",
              "    <tr>\n",
              "      <th>0</th>\n",
              "      <td>309_1</td>\n",
              "      <td>0.503644</td>\n",
              "      <td>0.747193</td>\n",
              "      <td>0.430175</td>\n",
              "      <td>2.816329</td>\n",
              "      <td>5.990152</td>\n",
              "      <td>0.218830</td>\n",
              "      <td>0.177565</td>\n",
              "      <td>2.373744</td>\n",
              "      <td>0.232224</td>\n",
              "      <td>...</td>\n",
              "      <td>0.108336</td>\n",
              "      <td>0.427099</td>\n",
              "      <td>0.114783</td>\n",
              "      <td>0.131790</td>\n",
              "      <td>0.128186</td>\n",
              "      <td>1.675652</td>\n",
              "      <td>Control</td>\n",
              "      <td>Memantine</td>\n",
              "      <td>C/S</td>\n",
              "      <td>c-CS-m</td>\n",
              "    </tr>\n",
              "    <tr>\n",
              "      <th>1</th>\n",
              "      <td>309_2</td>\n",
              "      <td>0.514617</td>\n",
              "      <td>0.689064</td>\n",
              "      <td>0.411770</td>\n",
              "      <td>2.789514</td>\n",
              "      <td>5.685038</td>\n",
              "      <td>0.211636</td>\n",
              "      <td>0.172817</td>\n",
              "      <td>2.292150</td>\n",
              "      <td>0.226972</td>\n",
              "      <td>...</td>\n",
              "      <td>0.104315</td>\n",
              "      <td>0.441581</td>\n",
              "      <td>0.111974</td>\n",
              "      <td>0.135103</td>\n",
              "      <td>0.131119</td>\n",
              "      <td>1.743610</td>\n",
              "      <td>Control</td>\n",
              "      <td>Memantine</td>\n",
              "      <td>C/S</td>\n",
              "      <td>c-CS-m</td>\n",
              "    </tr>\n",
              "    <tr>\n",
              "      <th>2</th>\n",
              "      <td>309_3</td>\n",
              "      <td>0.509183</td>\n",
              "      <td>0.730247</td>\n",
              "      <td>0.418309</td>\n",
              "      <td>2.687201</td>\n",
              "      <td>5.622059</td>\n",
              "      <td>0.209011</td>\n",
              "      <td>0.175722</td>\n",
              "      <td>2.283337</td>\n",
              "      <td>0.230247</td>\n",
              "      <td>...</td>\n",
              "      <td>0.106219</td>\n",
              "      <td>0.435777</td>\n",
              "      <td>0.111883</td>\n",
              "      <td>0.133362</td>\n",
              "      <td>0.127431</td>\n",
              "      <td>1.926427</td>\n",
              "      <td>Control</td>\n",
              "      <td>Memantine</td>\n",
              "      <td>C/S</td>\n",
              "      <td>c-CS-m</td>\n",
              "    </tr>\n",
              "    <tr>\n",
              "      <th>3</th>\n",
              "      <td>309_4</td>\n",
              "      <td>0.442107</td>\n",
              "      <td>0.617076</td>\n",
              "      <td>0.358626</td>\n",
              "      <td>2.466947</td>\n",
              "      <td>4.979503</td>\n",
              "      <td>0.222886</td>\n",
              "      <td>0.176463</td>\n",
              "      <td>2.152301</td>\n",
              "      <td>0.207004</td>\n",
              "      <td>...</td>\n",
              "      <td>0.111262</td>\n",
              "      <td>0.391691</td>\n",
              "      <td>0.130405</td>\n",
              "      <td>0.147444</td>\n",
              "      <td>0.146901</td>\n",
              "      <td>1.700563</td>\n",
              "      <td>Control</td>\n",
              "      <td>Memantine</td>\n",
              "      <td>C/S</td>\n",
              "      <td>c-CS-m</td>\n",
              "    </tr>\n",
              "    <tr>\n",
              "      <th>4</th>\n",
              "      <td>309_5</td>\n",
              "      <td>0.434940</td>\n",
              "      <td>0.617430</td>\n",
              "      <td>0.358802</td>\n",
              "      <td>2.365785</td>\n",
              "      <td>4.718679</td>\n",
              "      <td>0.213106</td>\n",
              "      <td>0.173627</td>\n",
              "      <td>2.134014</td>\n",
              "      <td>0.192158</td>\n",
              "      <td>...</td>\n",
              "      <td>0.110694</td>\n",
              "      <td>0.434154</td>\n",
              "      <td>0.118481</td>\n",
              "      <td>0.140314</td>\n",
              "      <td>0.148380</td>\n",
              "      <td>1.839730</td>\n",
              "      <td>Control</td>\n",
              "      <td>Memantine</td>\n",
              "      <td>C/S</td>\n",
              "      <td>c-CS-m</td>\n",
              "    </tr>\n",
              "  </tbody>\n",
              "</table>\n",
              "<p>5 rows × 82 columns</p>\n",
              "</div>\n",
              "    <div class=\"colab-df-buttons\">\n",
              "\n",
              "  <div class=\"colab-df-container\">\n",
              "    <button class=\"colab-df-convert\" onclick=\"convertToInteractive('df-8a6ddc0e-2e91-4d85-b908-40afd7a613b6')\"\n",
              "            title=\"Convert this dataframe to an interactive table.\"\n",
              "            style=\"display:none;\">\n",
              "\n",
              "  <svg xmlns=\"http://www.w3.org/2000/svg\" height=\"24px\" viewBox=\"0 -960 960 960\">\n",
              "    <path d=\"M120-120v-720h720v720H120Zm60-500h600v-160H180v160Zm220 220h160v-160H400v160Zm0 220h160v-160H400v160ZM180-400h160v-160H180v160Zm440 0h160v-160H620v160ZM180-180h160v-160H180v160Zm440 0h160v-160H620v160Z\"/>\n",
              "  </svg>\n",
              "    </button>\n",
              "\n",
              "  <style>\n",
              "    .colab-df-container {\n",
              "      display:flex;\n",
              "      gap: 12px;\n",
              "    }\n",
              "\n",
              "    .colab-df-convert {\n",
              "      background-color: #E8F0FE;\n",
              "      border: none;\n",
              "      border-radius: 50%;\n",
              "      cursor: pointer;\n",
              "      display: none;\n",
              "      fill: #1967D2;\n",
              "      height: 32px;\n",
              "      padding: 0 0 0 0;\n",
              "      width: 32px;\n",
              "    }\n",
              "\n",
              "    .colab-df-convert:hover {\n",
              "      background-color: #E2EBFA;\n",
              "      box-shadow: 0px 1px 2px rgba(60, 64, 67, 0.3), 0px 1px 3px 1px rgba(60, 64, 67, 0.15);\n",
              "      fill: #174EA6;\n",
              "    }\n",
              "\n",
              "    .colab-df-buttons div {\n",
              "      margin-bottom: 4px;\n",
              "    }\n",
              "\n",
              "    [theme=dark] .colab-df-convert {\n",
              "      background-color: #3B4455;\n",
              "      fill: #D2E3FC;\n",
              "    }\n",
              "\n",
              "    [theme=dark] .colab-df-convert:hover {\n",
              "      background-color: #434B5C;\n",
              "      box-shadow: 0px 1px 3px 1px rgba(0, 0, 0, 0.15);\n",
              "      filter: drop-shadow(0px 1px 2px rgba(0, 0, 0, 0.3));\n",
              "      fill: #FFFFFF;\n",
              "    }\n",
              "  </style>\n",
              "\n",
              "    <script>\n",
              "      const buttonEl =\n",
              "        document.querySelector('#df-8a6ddc0e-2e91-4d85-b908-40afd7a613b6 button.colab-df-convert');\n",
              "      buttonEl.style.display =\n",
              "        google.colab.kernel.accessAllowed ? 'block' : 'none';\n",
              "\n",
              "      async function convertToInteractive(key) {\n",
              "        const element = document.querySelector('#df-8a6ddc0e-2e91-4d85-b908-40afd7a613b6');\n",
              "        const dataTable =\n",
              "          await google.colab.kernel.invokeFunction('convertToInteractive',\n",
              "                                                    [key], {});\n",
              "        if (!dataTable) return;\n",
              "\n",
              "        const docLinkHtml = 'Like what you see? Visit the ' +\n",
              "          '<a target=\"_blank\" href=https://colab.research.google.com/notebooks/data_table.ipynb>data table notebook</a>'\n",
              "          + ' to learn more about interactive tables.';\n",
              "        element.innerHTML = '';\n",
              "        dataTable['output_type'] = 'display_data';\n",
              "        await google.colab.output.renderOutput(dataTable, element);\n",
              "        const docLink = document.createElement('div');\n",
              "        docLink.innerHTML = docLinkHtml;\n",
              "        element.appendChild(docLink);\n",
              "      }\n",
              "    </script>\n",
              "  </div>\n",
              "\n",
              "\n",
              "    <div id=\"df-a911558b-a022-458a-b476-50093f5fe6f6\">\n",
              "      <button class=\"colab-df-quickchart\" onclick=\"quickchart('df-a911558b-a022-458a-b476-50093f5fe6f6')\"\n",
              "                title=\"Suggest charts\"\n",
              "                style=\"display:none;\">\n",
              "\n",
              "<svg xmlns=\"http://www.w3.org/2000/svg\" height=\"24px\"viewBox=\"0 0 24 24\"\n",
              "     width=\"24px\">\n",
              "    <g>\n",
              "        <path d=\"M19 3H5c-1.1 0-2 .9-2 2v14c0 1.1.9 2 2 2h14c1.1 0 2-.9 2-2V5c0-1.1-.9-2-2-2zM9 17H7v-7h2v7zm4 0h-2V7h2v10zm4 0h-2v-4h2v4z\"/>\n",
              "    </g>\n",
              "</svg>\n",
              "      </button>\n",
              "\n",
              "<style>\n",
              "  .colab-df-quickchart {\n",
              "      --bg-color: #E8F0FE;\n",
              "      --fill-color: #1967D2;\n",
              "      --hover-bg-color: #E2EBFA;\n",
              "      --hover-fill-color: #174EA6;\n",
              "      --disabled-fill-color: #AAA;\n",
              "      --disabled-bg-color: #DDD;\n",
              "  }\n",
              "\n",
              "  [theme=dark] .colab-df-quickchart {\n",
              "      --bg-color: #3B4455;\n",
              "      --fill-color: #D2E3FC;\n",
              "      --hover-bg-color: #434B5C;\n",
              "      --hover-fill-color: #FFFFFF;\n",
              "      --disabled-bg-color: #3B4455;\n",
              "      --disabled-fill-color: #666;\n",
              "  }\n",
              "\n",
              "  .colab-df-quickchart {\n",
              "    background-color: var(--bg-color);\n",
              "    border: none;\n",
              "    border-radius: 50%;\n",
              "    cursor: pointer;\n",
              "    display: none;\n",
              "    fill: var(--fill-color);\n",
              "    height: 32px;\n",
              "    padding: 0;\n",
              "    width: 32px;\n",
              "  }\n",
              "\n",
              "  .colab-df-quickchart:hover {\n",
              "    background-color: var(--hover-bg-color);\n",
              "    box-shadow: 0 1px 2px rgba(60, 64, 67, 0.3), 0 1px 3px 1px rgba(60, 64, 67, 0.15);\n",
              "    fill: var(--button-hover-fill-color);\n",
              "  }\n",
              "\n",
              "  .colab-df-quickchart-complete:disabled,\n",
              "  .colab-df-quickchart-complete:disabled:hover {\n",
              "    background-color: var(--disabled-bg-color);\n",
              "    fill: var(--disabled-fill-color);\n",
              "    box-shadow: none;\n",
              "  }\n",
              "\n",
              "  .colab-df-spinner {\n",
              "    border: 2px solid var(--fill-color);\n",
              "    border-color: transparent;\n",
              "    border-bottom-color: var(--fill-color);\n",
              "    animation:\n",
              "      spin 1s steps(1) infinite;\n",
              "  }\n",
              "\n",
              "  @keyframes spin {\n",
              "    0% {\n",
              "      border-color: transparent;\n",
              "      border-bottom-color: var(--fill-color);\n",
              "      border-left-color: var(--fill-color);\n",
              "    }\n",
              "    20% {\n",
              "      border-color: transparent;\n",
              "      border-left-color: var(--fill-color);\n",
              "      border-top-color: var(--fill-color);\n",
              "    }\n",
              "    30% {\n",
              "      border-color: transparent;\n",
              "      border-left-color: var(--fill-color);\n",
              "      border-top-color: var(--fill-color);\n",
              "      border-right-color: var(--fill-color);\n",
              "    }\n",
              "    40% {\n",
              "      border-color: transparent;\n",
              "      border-right-color: var(--fill-color);\n",
              "      border-top-color: var(--fill-color);\n",
              "    }\n",
              "    60% {\n",
              "      border-color: transparent;\n",
              "      border-right-color: var(--fill-color);\n",
              "    }\n",
              "    80% {\n",
              "      border-color: transparent;\n",
              "      border-right-color: var(--fill-color);\n",
              "      border-bottom-color: var(--fill-color);\n",
              "    }\n",
              "    90% {\n",
              "      border-color: transparent;\n",
              "      border-bottom-color: var(--fill-color);\n",
              "    }\n",
              "  }\n",
              "</style>\n",
              "\n",
              "      <script>\n",
              "        async function quickchart(key) {\n",
              "          const quickchartButtonEl =\n",
              "            document.querySelector('#' + key + ' button');\n",
              "          quickchartButtonEl.disabled = true;  // To prevent multiple clicks.\n",
              "          quickchartButtonEl.classList.add('colab-df-spinner');\n",
              "          try {\n",
              "            const charts = await google.colab.kernel.invokeFunction(\n",
              "                'suggestCharts', [key], {});\n",
              "          } catch (error) {\n",
              "            console.error('Error during call to suggestCharts:', error);\n",
              "          }\n",
              "          quickchartButtonEl.classList.remove('colab-df-spinner');\n",
              "          quickchartButtonEl.classList.add('colab-df-quickchart-complete');\n",
              "        }\n",
              "        (() => {\n",
              "          let quickchartButtonEl =\n",
              "            document.querySelector('#df-a911558b-a022-458a-b476-50093f5fe6f6 button');\n",
              "          quickchartButtonEl.style.display =\n",
              "            google.colab.kernel.accessAllowed ? 'block' : 'none';\n",
              "        })();\n",
              "      </script>\n",
              "    </div>\n",
              "\n",
              "    </div>\n",
              "  </div>\n"
            ],
            "application/vnd.google.colaboratory.intrinsic+json": {
              "type": "dataframe",
              "variable_name": "df"
            }
          },
          "metadata": {},
          "execution_count": 53
        }
      ]
    },
    {
      "cell_type": "markdown",
      "source": [
        "Dataset description: How many features?\n"
      ],
      "metadata": {
        "id": "lCplVLpW7XYa"
      }
    },
    {
      "cell_type": "code",
      "execution_count": null,
      "metadata": {
        "id": "5_B8D1YIKxFS",
        "colab": {
          "base_uri": "https://localhost:8080/"
        },
        "outputId": "c4bb4add-7440-482d-e1b4-a965074a97ab"
      },
      "outputs": [
        {
          "output_type": "stream",
          "name": "stdout",
          "text": [
            "features:82\n"
          ]
        }
      ],
      "source": [
        "print(f\"features:{df.shape[1]}\")"
      ]
    },
    {
      "cell_type": "markdown",
      "source": [
        "How many data points?\n"
      ],
      "metadata": {
        "id": "rmAAkGWI8CI6"
      }
    },
    {
      "cell_type": "code",
      "execution_count": null,
      "metadata": {
        "id": "GbjuMbipLEIn",
        "colab": {
          "base_uri": "https://localhost:8080/"
        },
        "outputId": "c43eec60-8a76-417a-f266-63ae2d74494e"
      },
      "outputs": [
        {
          "output_type": "stream",
          "name": "stdout",
          "text": [
            "88560\n"
          ]
        }
      ],
      "source": [
        "print(df.size) #data points"
      ]
    },
    {
      "cell_type": "markdown",
      "source": [
        "Do you need to encode the categorical variables, why or why not?\n"
      ],
      "metadata": {
        "id": "3i0IURCG8uU4"
      }
    },
    {
      "cell_type": "code",
      "source": [
        "var= \"Yes, categorical type of variables in mice protein expression datasets require any form of encoding to transform them into numerical formats\"\n",
        "var_1= \"and these become suitable for both data analysis and modeling.\"\n",
        "print(var)\n",
        "print(var_1)"
      ],
      "metadata": {
        "id": "J5_LB0E2ZYCB",
        "colab": {
          "base_uri": "https://localhost:8080/"
        },
        "outputId": "b1372974-3d7c-4a68-ae2d-a30649547ab5"
      },
      "execution_count": null,
      "outputs": [
        {
          "output_type": "stream",
          "name": "stdout",
          "text": [
            "Yes, categorical type of variables in mice protein expression datasets require any form of encoding to transform them into numerical formats\n",
            "and these become suitable for both data analysis and modeling.\n"
          ]
        }
      ]
    },
    {
      "cell_type": "markdown",
      "source": [
        "Correlation of all the features (input and output features)\n",
        "\n",
        "(apply heatmap using the seaborn library)\n"
      ],
      "metadata": {
        "id": "GHNFVjXa9m-c"
      }
    },
    {
      "cell_type": "code",
      "source": [
        "import seaborn as sns\n",
        "\n",
        "# Select only numerical columns for correlation calculation\n",
        "numerical_data = df.select_dtypes(include=np.number)\n",
        "\n",
        "# Calculate the correlation matrix\n",
        "correlation_matrix = numerical_data.corr()\n",
        "correlation_matrix"
      ],
      "metadata": {
        "id": "rASTmqAphCE7",
        "colab": {
          "base_uri": "https://localhost:8080/",
          "height": 443
        },
        "outputId": "1a470843-a01c-488e-a498-38f4cd1c4634"
      },
      "execution_count": null,
      "outputs": [
        {
          "output_type": "execute_result",
          "data": {
            "text/plain": [
              "           DYRK1A_N   ITSN1_N    BDNF_N     NR1_N    NR2A_N    pAKT_N  \\\n",
              "DYRK1A_N   1.000000  0.959512  0.359433  0.294526  0.325063 -0.180959   \n",
              "ITSN1_N    0.959512  1.000000  0.459884  0.422492  0.426182 -0.147775   \n",
              "BDNF_N     0.359433  0.459884  1.000000  0.805784  0.749993  0.317537   \n",
              "NR1_N      0.294526  0.422492  0.805784  1.000000  0.873889  0.211540   \n",
              "NR2A_N     0.325063  0.426182  0.749993  0.873889  1.000000  0.110172   \n",
              "...             ...       ...       ...       ...       ...       ...   \n",
              "SYP_N     -0.047246  0.042422  0.450433  0.473366  0.400526  0.248531   \n",
              "H3AcK18_N -0.384816 -0.347339 -0.135637 -0.234171 -0.314210  0.338456   \n",
              "EGR1_N    -0.323397 -0.399856 -0.239907 -0.319672 -0.346987  0.280476   \n",
              "H3MeK4_N  -0.473734 -0.511433 -0.244732 -0.351958 -0.454366  0.383404   \n",
              "CaNA_N     0.476033  0.517782  0.262578  0.205463  0.187292 -0.238567   \n",
              "\n",
              "            pBRAF_N  pCAMKII_N   pCREB_N    pELK_N  ...     SHH_N     BAD_N  \\\n",
              "DYRK1A_N  -0.093737  -0.180169  0.047299  0.791173  ... -0.199363 -0.253175   \n",
              "ITSN1_N   -0.076507  -0.132870  0.171122  0.780926  ... -0.200833 -0.327136   \n",
              "BDNF_N     0.390530   0.246760  0.603857  0.451598  ... -0.080776 -0.186508   \n",
              "NR1_N      0.244224   0.301151  0.597443  0.416629  ... -0.141423 -0.386577   \n",
              "NR2A_N     0.111143   0.280733  0.392695  0.409502  ... -0.259166 -0.449268   \n",
              "...             ...        ...       ...       ...  ...       ...       ...   \n",
              "SYP_N      0.284492   0.244965  0.413060  0.039426  ...  0.056826  0.052303   \n",
              "H3AcK18_N  0.301049   0.193369  0.235879 -0.259559  ...  0.241714  0.465087   \n",
              "EGR1_N     0.349281   0.079262 -0.117623 -0.202839  ...  0.378905  0.805637   \n",
              "H3MeK4_N   0.402397   0.065615  0.056099 -0.277555  ...  0.324445  0.749225   \n",
              "CaNA_N    -0.213691  -0.375797  0.039517  0.233863  ... -0.123215 -0.276626   \n",
              "\n",
              "             BCL2_N     pS6_N   pCFOS_N     SYP_N  H3AcK18_N    EGR1_N  \\\n",
              "DYRK1A_N  -0.167358 -0.326577 -0.228488 -0.047246  -0.384816 -0.323397   \n",
              "ITSN1_N   -0.257745 -0.256573 -0.309593  0.042422  -0.347339 -0.399856   \n",
              "BDNF_N    -0.146526  0.127703 -0.254218  0.450433  -0.135637 -0.239907   \n",
              "NR1_N     -0.321790  0.264181 -0.374932  0.473366  -0.234171 -0.319672   \n",
              "NR2A_N    -0.297453  0.262492 -0.434530  0.400526  -0.314210 -0.346987   \n",
              "...             ...       ...       ...       ...        ...       ...   \n",
              "SYP_N      0.039724  0.423405 -0.039379  1.000000   0.031898  0.098065   \n",
              "H3AcK18_N  0.379046  0.138683  0.286105  0.031898   1.000000  0.332770   \n",
              "EGR1_N     0.841650  0.239695  0.725289  0.098065   0.332770  1.000000   \n",
              "H3MeK4_N   0.712321  0.222595  0.558868 -0.010347   0.769093  0.731871   \n",
              "CaNA_N    -0.299910 -0.344369 -0.302378  0.246107  -0.239835 -0.470487   \n",
              "\n",
              "           H3MeK4_N    CaNA_N  \n",
              "DYRK1A_N  -0.473734  0.476033  \n",
              "ITSN1_N   -0.511433  0.517782  \n",
              "BDNF_N    -0.244732  0.262578  \n",
              "NR1_N     -0.351958  0.205463  \n",
              "NR2A_N    -0.454366  0.187292  \n",
              "...             ...       ...  \n",
              "SYP_N     -0.010347  0.246107  \n",
              "H3AcK18_N  0.769093 -0.239835  \n",
              "EGR1_N     0.731871 -0.470487  \n",
              "H3MeK4_N   1.000000 -0.404005  \n",
              "CaNA_N    -0.404005  1.000000  \n",
              "\n",
              "[77 rows x 77 columns]"
            ],
            "text/html": [
              "\n",
              "  <div id=\"df-6f7daa48-6deb-4418-be07-ad037521c2d0\" class=\"colab-df-container\">\n",
              "    <div>\n",
              "<style scoped>\n",
              "    .dataframe tbody tr th:only-of-type {\n",
              "        vertical-align: middle;\n",
              "    }\n",
              "\n",
              "    .dataframe tbody tr th {\n",
              "        vertical-align: top;\n",
              "    }\n",
              "\n",
              "    .dataframe thead th {\n",
              "        text-align: right;\n",
              "    }\n",
              "</style>\n",
              "<table border=\"1\" class=\"dataframe\">\n",
              "  <thead>\n",
              "    <tr style=\"text-align: right;\">\n",
              "      <th></th>\n",
              "      <th>DYRK1A_N</th>\n",
              "      <th>ITSN1_N</th>\n",
              "      <th>BDNF_N</th>\n",
              "      <th>NR1_N</th>\n",
              "      <th>NR2A_N</th>\n",
              "      <th>pAKT_N</th>\n",
              "      <th>pBRAF_N</th>\n",
              "      <th>pCAMKII_N</th>\n",
              "      <th>pCREB_N</th>\n",
              "      <th>pELK_N</th>\n",
              "      <th>...</th>\n",
              "      <th>SHH_N</th>\n",
              "      <th>BAD_N</th>\n",
              "      <th>BCL2_N</th>\n",
              "      <th>pS6_N</th>\n",
              "      <th>pCFOS_N</th>\n",
              "      <th>SYP_N</th>\n",
              "      <th>H3AcK18_N</th>\n",
              "      <th>EGR1_N</th>\n",
              "      <th>H3MeK4_N</th>\n",
              "      <th>CaNA_N</th>\n",
              "    </tr>\n",
              "  </thead>\n",
              "  <tbody>\n",
              "    <tr>\n",
              "      <th>DYRK1A_N</th>\n",
              "      <td>1.000000</td>\n",
              "      <td>0.959512</td>\n",
              "      <td>0.359433</td>\n",
              "      <td>0.294526</td>\n",
              "      <td>0.325063</td>\n",
              "      <td>-0.180959</td>\n",
              "      <td>-0.093737</td>\n",
              "      <td>-0.180169</td>\n",
              "      <td>0.047299</td>\n",
              "      <td>0.791173</td>\n",
              "      <td>...</td>\n",
              "      <td>-0.199363</td>\n",
              "      <td>-0.253175</td>\n",
              "      <td>-0.167358</td>\n",
              "      <td>-0.326577</td>\n",
              "      <td>-0.228488</td>\n",
              "      <td>-0.047246</td>\n",
              "      <td>-0.384816</td>\n",
              "      <td>-0.323397</td>\n",
              "      <td>-0.473734</td>\n",
              "      <td>0.476033</td>\n",
              "    </tr>\n",
              "    <tr>\n",
              "      <th>ITSN1_N</th>\n",
              "      <td>0.959512</td>\n",
              "      <td>1.000000</td>\n",
              "      <td>0.459884</td>\n",
              "      <td>0.422492</td>\n",
              "      <td>0.426182</td>\n",
              "      <td>-0.147775</td>\n",
              "      <td>-0.076507</td>\n",
              "      <td>-0.132870</td>\n",
              "      <td>0.171122</td>\n",
              "      <td>0.780926</td>\n",
              "      <td>...</td>\n",
              "      <td>-0.200833</td>\n",
              "      <td>-0.327136</td>\n",
              "      <td>-0.257745</td>\n",
              "      <td>-0.256573</td>\n",
              "      <td>-0.309593</td>\n",
              "      <td>0.042422</td>\n",
              "      <td>-0.347339</td>\n",
              "      <td>-0.399856</td>\n",
              "      <td>-0.511433</td>\n",
              "      <td>0.517782</td>\n",
              "    </tr>\n",
              "    <tr>\n",
              "      <th>BDNF_N</th>\n",
              "      <td>0.359433</td>\n",
              "      <td>0.459884</td>\n",
              "      <td>1.000000</td>\n",
              "      <td>0.805784</td>\n",
              "      <td>0.749993</td>\n",
              "      <td>0.317537</td>\n",
              "      <td>0.390530</td>\n",
              "      <td>0.246760</td>\n",
              "      <td>0.603857</td>\n",
              "      <td>0.451598</td>\n",
              "      <td>...</td>\n",
              "      <td>-0.080776</td>\n",
              "      <td>-0.186508</td>\n",
              "      <td>-0.146526</td>\n",
              "      <td>0.127703</td>\n",
              "      <td>-0.254218</td>\n",
              "      <td>0.450433</td>\n",
              "      <td>-0.135637</td>\n",
              "      <td>-0.239907</td>\n",
              "      <td>-0.244732</td>\n",
              "      <td>0.262578</td>\n",
              "    </tr>\n",
              "    <tr>\n",
              "      <th>NR1_N</th>\n",
              "      <td>0.294526</td>\n",
              "      <td>0.422492</td>\n",
              "      <td>0.805784</td>\n",
              "      <td>1.000000</td>\n",
              "      <td>0.873889</td>\n",
              "      <td>0.211540</td>\n",
              "      <td>0.244224</td>\n",
              "      <td>0.301151</td>\n",
              "      <td>0.597443</td>\n",
              "      <td>0.416629</td>\n",
              "      <td>...</td>\n",
              "      <td>-0.141423</td>\n",
              "      <td>-0.386577</td>\n",
              "      <td>-0.321790</td>\n",
              "      <td>0.264181</td>\n",
              "      <td>-0.374932</td>\n",
              "      <td>0.473366</td>\n",
              "      <td>-0.234171</td>\n",
              "      <td>-0.319672</td>\n",
              "      <td>-0.351958</td>\n",
              "      <td>0.205463</td>\n",
              "    </tr>\n",
              "    <tr>\n",
              "      <th>NR2A_N</th>\n",
              "      <td>0.325063</td>\n",
              "      <td>0.426182</td>\n",
              "      <td>0.749993</td>\n",
              "      <td>0.873889</td>\n",
              "      <td>1.000000</td>\n",
              "      <td>0.110172</td>\n",
              "      <td>0.111143</td>\n",
              "      <td>0.280733</td>\n",
              "      <td>0.392695</td>\n",
              "      <td>0.409502</td>\n",
              "      <td>...</td>\n",
              "      <td>-0.259166</td>\n",
              "      <td>-0.449268</td>\n",
              "      <td>-0.297453</td>\n",
              "      <td>0.262492</td>\n",
              "      <td>-0.434530</td>\n",
              "      <td>0.400526</td>\n",
              "      <td>-0.314210</td>\n",
              "      <td>-0.346987</td>\n",
              "      <td>-0.454366</td>\n",
              "      <td>0.187292</td>\n",
              "    </tr>\n",
              "    <tr>\n",
              "      <th>...</th>\n",
              "      <td>...</td>\n",
              "      <td>...</td>\n",
              "      <td>...</td>\n",
              "      <td>...</td>\n",
              "      <td>...</td>\n",
              "      <td>...</td>\n",
              "      <td>...</td>\n",
              "      <td>...</td>\n",
              "      <td>...</td>\n",
              "      <td>...</td>\n",
              "      <td>...</td>\n",
              "      <td>...</td>\n",
              "      <td>...</td>\n",
              "      <td>...</td>\n",
              "      <td>...</td>\n",
              "      <td>...</td>\n",
              "      <td>...</td>\n",
              "      <td>...</td>\n",
              "      <td>...</td>\n",
              "      <td>...</td>\n",
              "      <td>...</td>\n",
              "    </tr>\n",
              "    <tr>\n",
              "      <th>SYP_N</th>\n",
              "      <td>-0.047246</td>\n",
              "      <td>0.042422</td>\n",
              "      <td>0.450433</td>\n",
              "      <td>0.473366</td>\n",
              "      <td>0.400526</td>\n",
              "      <td>0.248531</td>\n",
              "      <td>0.284492</td>\n",
              "      <td>0.244965</td>\n",
              "      <td>0.413060</td>\n",
              "      <td>0.039426</td>\n",
              "      <td>...</td>\n",
              "      <td>0.056826</td>\n",
              "      <td>0.052303</td>\n",
              "      <td>0.039724</td>\n",
              "      <td>0.423405</td>\n",
              "      <td>-0.039379</td>\n",
              "      <td>1.000000</td>\n",
              "      <td>0.031898</td>\n",
              "      <td>0.098065</td>\n",
              "      <td>-0.010347</td>\n",
              "      <td>0.246107</td>\n",
              "    </tr>\n",
              "    <tr>\n",
              "      <th>H3AcK18_N</th>\n",
              "      <td>-0.384816</td>\n",
              "      <td>-0.347339</td>\n",
              "      <td>-0.135637</td>\n",
              "      <td>-0.234171</td>\n",
              "      <td>-0.314210</td>\n",
              "      <td>0.338456</td>\n",
              "      <td>0.301049</td>\n",
              "      <td>0.193369</td>\n",
              "      <td>0.235879</td>\n",
              "      <td>-0.259559</td>\n",
              "      <td>...</td>\n",
              "      <td>0.241714</td>\n",
              "      <td>0.465087</td>\n",
              "      <td>0.379046</td>\n",
              "      <td>0.138683</td>\n",
              "      <td>0.286105</td>\n",
              "      <td>0.031898</td>\n",
              "      <td>1.000000</td>\n",
              "      <td>0.332770</td>\n",
              "      <td>0.769093</td>\n",
              "      <td>-0.239835</td>\n",
              "    </tr>\n",
              "    <tr>\n",
              "      <th>EGR1_N</th>\n",
              "      <td>-0.323397</td>\n",
              "      <td>-0.399856</td>\n",
              "      <td>-0.239907</td>\n",
              "      <td>-0.319672</td>\n",
              "      <td>-0.346987</td>\n",
              "      <td>0.280476</td>\n",
              "      <td>0.349281</td>\n",
              "      <td>0.079262</td>\n",
              "      <td>-0.117623</td>\n",
              "      <td>-0.202839</td>\n",
              "      <td>...</td>\n",
              "      <td>0.378905</td>\n",
              "      <td>0.805637</td>\n",
              "      <td>0.841650</td>\n",
              "      <td>0.239695</td>\n",
              "      <td>0.725289</td>\n",
              "      <td>0.098065</td>\n",
              "      <td>0.332770</td>\n",
              "      <td>1.000000</td>\n",
              "      <td>0.731871</td>\n",
              "      <td>-0.470487</td>\n",
              "    </tr>\n",
              "    <tr>\n",
              "      <th>H3MeK4_N</th>\n",
              "      <td>-0.473734</td>\n",
              "      <td>-0.511433</td>\n",
              "      <td>-0.244732</td>\n",
              "      <td>-0.351958</td>\n",
              "      <td>-0.454366</td>\n",
              "      <td>0.383404</td>\n",
              "      <td>0.402397</td>\n",
              "      <td>0.065615</td>\n",
              "      <td>0.056099</td>\n",
              "      <td>-0.277555</td>\n",
              "      <td>...</td>\n",
              "      <td>0.324445</td>\n",
              "      <td>0.749225</td>\n",
              "      <td>0.712321</td>\n",
              "      <td>0.222595</td>\n",
              "      <td>0.558868</td>\n",
              "      <td>-0.010347</td>\n",
              "      <td>0.769093</td>\n",
              "      <td>0.731871</td>\n",
              "      <td>1.000000</td>\n",
              "      <td>-0.404005</td>\n",
              "    </tr>\n",
              "    <tr>\n",
              "      <th>CaNA_N</th>\n",
              "      <td>0.476033</td>\n",
              "      <td>0.517782</td>\n",
              "      <td>0.262578</td>\n",
              "      <td>0.205463</td>\n",
              "      <td>0.187292</td>\n",
              "      <td>-0.238567</td>\n",
              "      <td>-0.213691</td>\n",
              "      <td>-0.375797</td>\n",
              "      <td>0.039517</td>\n",
              "      <td>0.233863</td>\n",
              "      <td>...</td>\n",
              "      <td>-0.123215</td>\n",
              "      <td>-0.276626</td>\n",
              "      <td>-0.299910</td>\n",
              "      <td>-0.344369</td>\n",
              "      <td>-0.302378</td>\n",
              "      <td>0.246107</td>\n",
              "      <td>-0.239835</td>\n",
              "      <td>-0.470487</td>\n",
              "      <td>-0.404005</td>\n",
              "      <td>1.000000</td>\n",
              "    </tr>\n",
              "  </tbody>\n",
              "</table>\n",
              "<p>77 rows × 77 columns</p>\n",
              "</div>\n",
              "    <div class=\"colab-df-buttons\">\n",
              "\n",
              "  <div class=\"colab-df-container\">\n",
              "    <button class=\"colab-df-convert\" onclick=\"convertToInteractive('df-6f7daa48-6deb-4418-be07-ad037521c2d0')\"\n",
              "            title=\"Convert this dataframe to an interactive table.\"\n",
              "            style=\"display:none;\">\n",
              "\n",
              "  <svg xmlns=\"http://www.w3.org/2000/svg\" height=\"24px\" viewBox=\"0 -960 960 960\">\n",
              "    <path d=\"M120-120v-720h720v720H120Zm60-500h600v-160H180v160Zm220 220h160v-160H400v160Zm0 220h160v-160H400v160ZM180-400h160v-160H180v160Zm440 0h160v-160H620v160ZM180-180h160v-160H180v160Zm440 0h160v-160H620v160Z\"/>\n",
              "  </svg>\n",
              "    </button>\n",
              "\n",
              "  <style>\n",
              "    .colab-df-container {\n",
              "      display:flex;\n",
              "      gap: 12px;\n",
              "    }\n",
              "\n",
              "    .colab-df-convert {\n",
              "      background-color: #E8F0FE;\n",
              "      border: none;\n",
              "      border-radius: 50%;\n",
              "      cursor: pointer;\n",
              "      display: none;\n",
              "      fill: #1967D2;\n",
              "      height: 32px;\n",
              "      padding: 0 0 0 0;\n",
              "      width: 32px;\n",
              "    }\n",
              "\n",
              "    .colab-df-convert:hover {\n",
              "      background-color: #E2EBFA;\n",
              "      box-shadow: 0px 1px 2px rgba(60, 64, 67, 0.3), 0px 1px 3px 1px rgba(60, 64, 67, 0.15);\n",
              "      fill: #174EA6;\n",
              "    }\n",
              "\n",
              "    .colab-df-buttons div {\n",
              "      margin-bottom: 4px;\n",
              "    }\n",
              "\n",
              "    [theme=dark] .colab-df-convert {\n",
              "      background-color: #3B4455;\n",
              "      fill: #D2E3FC;\n",
              "    }\n",
              "\n",
              "    [theme=dark] .colab-df-convert:hover {\n",
              "      background-color: #434B5C;\n",
              "      box-shadow: 0px 1px 3px 1px rgba(0, 0, 0, 0.15);\n",
              "      filter: drop-shadow(0px 1px 2px rgba(0, 0, 0, 0.3));\n",
              "      fill: #FFFFFF;\n",
              "    }\n",
              "  </style>\n",
              "\n",
              "    <script>\n",
              "      const buttonEl =\n",
              "        document.querySelector('#df-6f7daa48-6deb-4418-be07-ad037521c2d0 button.colab-df-convert');\n",
              "      buttonEl.style.display =\n",
              "        google.colab.kernel.accessAllowed ? 'block' : 'none';\n",
              "\n",
              "      async function convertToInteractive(key) {\n",
              "        const element = document.querySelector('#df-6f7daa48-6deb-4418-be07-ad037521c2d0');\n",
              "        const dataTable =\n",
              "          await google.colab.kernel.invokeFunction('convertToInteractive',\n",
              "                                                    [key], {});\n",
              "        if (!dataTable) return;\n",
              "\n",
              "        const docLinkHtml = 'Like what you see? Visit the ' +\n",
              "          '<a target=\"_blank\" href=https://colab.research.google.com/notebooks/data_table.ipynb>data table notebook</a>'\n",
              "          + ' to learn more about interactive tables.';\n",
              "        element.innerHTML = '';\n",
              "        dataTable['output_type'] = 'display_data';\n",
              "        await google.colab.output.renderOutput(dataTable, element);\n",
              "        const docLink = document.createElement('div');\n",
              "        docLink.innerHTML = docLinkHtml;\n",
              "        element.appendChild(docLink);\n",
              "      }\n",
              "    </script>\n",
              "  </div>\n",
              "\n",
              "\n",
              "    <div id=\"df-d51a8a55-bccc-4bf4-9bb8-a5752975c421\">\n",
              "      <button class=\"colab-df-quickchart\" onclick=\"quickchart('df-d51a8a55-bccc-4bf4-9bb8-a5752975c421')\"\n",
              "                title=\"Suggest charts\"\n",
              "                style=\"display:none;\">\n",
              "\n",
              "<svg xmlns=\"http://www.w3.org/2000/svg\" height=\"24px\"viewBox=\"0 0 24 24\"\n",
              "     width=\"24px\">\n",
              "    <g>\n",
              "        <path d=\"M19 3H5c-1.1 0-2 .9-2 2v14c0 1.1.9 2 2 2h14c1.1 0 2-.9 2-2V5c0-1.1-.9-2-2-2zM9 17H7v-7h2v7zm4 0h-2V7h2v10zm4 0h-2v-4h2v4z\"/>\n",
              "    </g>\n",
              "</svg>\n",
              "      </button>\n",
              "\n",
              "<style>\n",
              "  .colab-df-quickchart {\n",
              "      --bg-color: #E8F0FE;\n",
              "      --fill-color: #1967D2;\n",
              "      --hover-bg-color: #E2EBFA;\n",
              "      --hover-fill-color: #174EA6;\n",
              "      --disabled-fill-color: #AAA;\n",
              "      --disabled-bg-color: #DDD;\n",
              "  }\n",
              "\n",
              "  [theme=dark] .colab-df-quickchart {\n",
              "      --bg-color: #3B4455;\n",
              "      --fill-color: #D2E3FC;\n",
              "      --hover-bg-color: #434B5C;\n",
              "      --hover-fill-color: #FFFFFF;\n",
              "      --disabled-bg-color: #3B4455;\n",
              "      --disabled-fill-color: #666;\n",
              "  }\n",
              "\n",
              "  .colab-df-quickchart {\n",
              "    background-color: var(--bg-color);\n",
              "    border: none;\n",
              "    border-radius: 50%;\n",
              "    cursor: pointer;\n",
              "    display: none;\n",
              "    fill: var(--fill-color);\n",
              "    height: 32px;\n",
              "    padding: 0;\n",
              "    width: 32px;\n",
              "  }\n",
              "\n",
              "  .colab-df-quickchart:hover {\n",
              "    background-color: var(--hover-bg-color);\n",
              "    box-shadow: 0 1px 2px rgba(60, 64, 67, 0.3), 0 1px 3px 1px rgba(60, 64, 67, 0.15);\n",
              "    fill: var(--button-hover-fill-color);\n",
              "  }\n",
              "\n",
              "  .colab-df-quickchart-complete:disabled,\n",
              "  .colab-df-quickchart-complete:disabled:hover {\n",
              "    background-color: var(--disabled-bg-color);\n",
              "    fill: var(--disabled-fill-color);\n",
              "    box-shadow: none;\n",
              "  }\n",
              "\n",
              "  .colab-df-spinner {\n",
              "    border: 2px solid var(--fill-color);\n",
              "    border-color: transparent;\n",
              "    border-bottom-color: var(--fill-color);\n",
              "    animation:\n",
              "      spin 1s steps(1) infinite;\n",
              "  }\n",
              "\n",
              "  @keyframes spin {\n",
              "    0% {\n",
              "      border-color: transparent;\n",
              "      border-bottom-color: var(--fill-color);\n",
              "      border-left-color: var(--fill-color);\n",
              "    }\n",
              "    20% {\n",
              "      border-color: transparent;\n",
              "      border-left-color: var(--fill-color);\n",
              "      border-top-color: var(--fill-color);\n",
              "    }\n",
              "    30% {\n",
              "      border-color: transparent;\n",
              "      border-left-color: var(--fill-color);\n",
              "      border-top-color: var(--fill-color);\n",
              "      border-right-color: var(--fill-color);\n",
              "    }\n",
              "    40% {\n",
              "      border-color: transparent;\n",
              "      border-right-color: var(--fill-color);\n",
              "      border-top-color: var(--fill-color);\n",
              "    }\n",
              "    60% {\n",
              "      border-color: transparent;\n",
              "      border-right-color: var(--fill-color);\n",
              "    }\n",
              "    80% {\n",
              "      border-color: transparent;\n",
              "      border-right-color: var(--fill-color);\n",
              "      border-bottom-color: var(--fill-color);\n",
              "    }\n",
              "    90% {\n",
              "      border-color: transparent;\n",
              "      border-bottom-color: var(--fill-color);\n",
              "    }\n",
              "  }\n",
              "</style>\n",
              "\n",
              "      <script>\n",
              "        async function quickchart(key) {\n",
              "          const quickchartButtonEl =\n",
              "            document.querySelector('#' + key + ' button');\n",
              "          quickchartButtonEl.disabled = true;  // To prevent multiple clicks.\n",
              "          quickchartButtonEl.classList.add('colab-df-spinner');\n",
              "          try {\n",
              "            const charts = await google.colab.kernel.invokeFunction(\n",
              "                'suggestCharts', [key], {});\n",
              "          } catch (error) {\n",
              "            console.error('Error during call to suggestCharts:', error);\n",
              "          }\n",
              "          quickchartButtonEl.classList.remove('colab-df-spinner');\n",
              "          quickchartButtonEl.classList.add('colab-df-quickchart-complete');\n",
              "        }\n",
              "        (() => {\n",
              "          let quickchartButtonEl =\n",
              "            document.querySelector('#df-d51a8a55-bccc-4bf4-9bb8-a5752975c421 button');\n",
              "          quickchartButtonEl.style.display =\n",
              "            google.colab.kernel.accessAllowed ? 'block' : 'none';\n",
              "        })();\n",
              "      </script>\n",
              "    </div>\n",
              "\n",
              "  <div id=\"id_a55b21dd-8c41-47d6-8739-fa1148e77633\">\n",
              "    <style>\n",
              "      .colab-df-generate {\n",
              "        background-color: #E8F0FE;\n",
              "        border: none;\n",
              "        border-radius: 50%;\n",
              "        cursor: pointer;\n",
              "        display: none;\n",
              "        fill: #1967D2;\n",
              "        height: 32px;\n",
              "        padding: 0 0 0 0;\n",
              "        width: 32px;\n",
              "      }\n",
              "\n",
              "      .colab-df-generate:hover {\n",
              "        background-color: #E2EBFA;\n",
              "        box-shadow: 0px 1px 2px rgba(60, 64, 67, 0.3), 0px 1px 3px 1px rgba(60, 64, 67, 0.15);\n",
              "        fill: #174EA6;\n",
              "      }\n",
              "\n",
              "      [theme=dark] .colab-df-generate {\n",
              "        background-color: #3B4455;\n",
              "        fill: #D2E3FC;\n",
              "      }\n",
              "\n",
              "      [theme=dark] .colab-df-generate:hover {\n",
              "        background-color: #434B5C;\n",
              "        box-shadow: 0px 1px 3px 1px rgba(0, 0, 0, 0.15);\n",
              "        filter: drop-shadow(0px 1px 2px rgba(0, 0, 0, 0.3));\n",
              "        fill: #FFFFFF;\n",
              "      }\n",
              "    </style>\n",
              "    <button class=\"colab-df-generate\" onclick=\"generateWithVariable('correlation_matrix')\"\n",
              "            title=\"Generate code using this dataframe.\"\n",
              "            style=\"display:none;\">\n",
              "\n",
              "  <svg xmlns=\"http://www.w3.org/2000/svg\" height=\"24px\"viewBox=\"0 0 24 24\"\n",
              "       width=\"24px\">\n",
              "    <path d=\"M7,19H8.4L18.45,9,17,7.55,7,17.6ZM5,21V16.75L18.45,3.32a2,2,0,0,1,2.83,0l1.4,1.43a1.91,1.91,0,0,1,.58,1.4,1.91,1.91,0,0,1-.58,1.4L9.25,21ZM18.45,9,17,7.55Zm-12,3A5.31,5.31,0,0,0,4.9,8.1,5.31,5.31,0,0,0,1,6.5,5.31,5.31,0,0,0,4.9,4.9,5.31,5.31,0,0,0,6.5,1,5.31,5.31,0,0,0,8.1,4.9,5.31,5.31,0,0,0,12,6.5,5.46,5.46,0,0,0,6.5,12Z\"/>\n",
              "  </svg>\n",
              "    </button>\n",
              "    <script>\n",
              "      (() => {\n",
              "      const buttonEl =\n",
              "        document.querySelector('#id_a55b21dd-8c41-47d6-8739-fa1148e77633 button.colab-df-generate');\n",
              "      buttonEl.style.display =\n",
              "        google.colab.kernel.accessAllowed ? 'block' : 'none';\n",
              "\n",
              "      buttonEl.onclick = () => {\n",
              "        google.colab.notebook.generateWithVariable('correlation_matrix');\n",
              "      }\n",
              "      })();\n",
              "    </script>\n",
              "  </div>\n",
              "\n",
              "    </div>\n",
              "  </div>\n"
            ],
            "application/vnd.google.colaboratory.intrinsic+json": {
              "type": "dataframe",
              "variable_name": "correlation_matrix"
            }
          },
          "metadata": {},
          "execution_count": 57
        }
      ]
    },
    {
      "cell_type": "code",
      "source": [
        "# Plotting the heatmap for correlation matrix\n",
        "\n",
        "# for 50+ features, consider these options:\n",
        "plt.figure(figsize=(20, 18))\n",
        "sns.heatmap(correlation_matrix,\n",
        "           annot=False,        # Turn off annotations if the matrics is large\n",
        "           cmap='coolwarm',\n",
        "           linewidths=0.1)\n",
        "plt.show()\n"
      ],
      "metadata": {
        "id": "PDt72EWKnN_D",
        "colab": {
          "base_uri": "https://localhost:8080/",
          "height": 1000
        },
        "outputId": "751cb3d0-b661-40ad-9b93-65933e44c130"
      },
      "execution_count": null,
      "outputs": [
        {
          "output_type": "display_data",
          "data": {
            "text/plain": [
              "<Figure size 2000x1800 with 2 Axes>"
            ],
            "image/png": "[encoded data removed]"
          },
          "metadata": {}
        }
      ]
    },
    {
      "cell_type": "markdown",
      "source": [
        "What do you understand after the correlation test?\n"
      ],
      "metadata": {
        "id": "A0SBg_g6BJdB"
      }
    },
    {
      "cell_type": "code",
      "source": [
        "var_1 = \"A correlation matrix shows the interrelationship between numerical values based on their strength, with values ranging often from -1 to 1.\"\n",
        "var_2= 'Positive values mean variables tend to increase simultaneously, whilst the negative means one value tend to increase while the other one tends to decrease.'\n",
        "var_3 = \"Meanwhile, zero defines no relationship, helping ut to quickly spot different patterns and relationships in data before further data analysis.\"\n",
        "print(var_1)\n",
        "print(var_2)\n",
        "print(var_3)"
      ],
      "metadata": {
        "id": "IF-tDxK5oZbt",
        "colab": {
          "base_uri": "https://localhost:8080/"
        },
        "outputId": "97f1a987-016c-4618-82ac-13d007559930"
      },
      "execution_count": null,
      "outputs": [
        {
          "output_type": "stream",
          "name": "stdout",
          "text": [
            "A correlation matrix shows the interrelationship between numerical values based on their strength, with values ranging often from -1 to 1.\n",
            "Positive values mean variables tend to increase simultaneously, whilst the negative means one value tend to increase while the other one tends to decrease.\n",
            "Meanwhile, zero defines no relationship, helping ut to quickly spot different patterns and relationships in data before further data analysis.\n"
          ]
        }
      ]
    },
    {
      "cell_type": "markdown",
      "source": [
        "Imbalanced Dataset\n",
        "-For the output feature, do all unique classes have an equal number of instances or not?\n",
        "\n",
        "\n",
        "-Represent using a bar chart of N classes (N=number of classes you have in your dataset).\n"
      ],
      "metadata": {
        "id": "yTtGY0E3-uiT"
      }
    },
    {
      "cell_type": "code",
      "source": [
        "# Get the number of rows (data points) and columns (features)\n",
        "num_data_points = df.shape[0]\n",
        "num_features = df.shape[1]\n",
        "\n",
        "print(f\"Number of data points (rows): {num_data_points}\")\n",
        "print(f\"Number of features (columns): {num_features} with non-numerical values\")"
      ],
      "metadata": {
        "id": "CgZD74b9tz51",
        "colab": {
          "base_uri": "https://localhost:8080/"
        },
        "outputId": "ad00a0f3-e27c-4f0d-9ced-9726f90366eb"
      },
      "execution_count": null,
      "outputs": [
        {
          "output_type": "stream",
          "name": "stdout",
          "text": [
            "Number of data points (rows): 1080\n",
            "Number of features (columns): 82 with non-numerical values\n"
          ]
        }
      ]
    },
    {
      "cell_type": "code",
      "execution_count": null,
      "metadata": {
        "id": "hLKCAjOhLNLy",
        "colab": {
          "base_uri": "https://localhost:8080/"
        },
        "outputId": "9d993273-0294-4541-e5e4-9bd6763a4720"
      },
      "outputs": [
        {
          "output_type": "stream",
          "name": "stdout",
          "text": [
            "{dtype('float64'), dtype('O')}\n"
          ]
        }
      ],
      "source": [
        "print(set(df.dtypes)) # what kind of features"
      ]
    },
    {
      "cell_type": "code",
      "execution_count": null,
      "metadata": {
        "id": "90f-h4uILnog",
        "colab": {
          "base_uri": "https://localhost:8080/",
          "height": 282
        },
        "outputId": "f7e20f9a-f41a-4f93-9e4e-111f06d48626"
      },
      "outputs": [
        {
          "output_type": "stream",
          "name": "stdout",
          "text": [
            "Behavior\n",
            "S/C    555\n",
            "C/S    525\n",
            "Name: count, dtype: int64\n",
            "Are all classes balanced? Answer: False\n",
            "Class distribution is not balanced.\n"
          ]
        },
        {
          "output_type": "execute_result",
          "data": {
            "text/plain": [
              "Behavior\n",
              "S/C    555\n",
              "C/S    525\n",
              "Name: count, dtype: int64"
            ],
            "text/html": [
              "<div>\n",
              "<style scoped>\n",
              "    .dataframe tbody tr th:only-of-type {\n",
              "        vertical-align: middle;\n",
              "    }\n",
              "\n",
              "    .dataframe tbody tr th {\n",
              "        vertical-align: top;\n",
              "    }\n",
              "\n",
              "    .dataframe thead th {\n",
              "        text-align: right;\n",
              "    }\n",
              "</style>\n",
              "<table border=\"1\" class=\"dataframe\">\n",
              "  <thead>\n",
              "    <tr style=\"text-align: right;\">\n",
              "      <th></th>\n",
              "      <th>count</th>\n",
              "    </tr>\n",
              "    <tr>\n",
              "      <th>Behavior</th>\n",
              "      <th></th>\n",
              "    </tr>\n",
              "  </thead>\n",
              "  <tbody>\n",
              "    <tr>\n",
              "      <th>S/C</th>\n",
              "      <td>555</td>\n",
              "    </tr>\n",
              "    <tr>\n",
              "      <th>C/S</th>\n",
              "      <td>525</td>\n",
              "    </tr>\n",
              "  </tbody>\n",
              "</table>\n",
              "</div><br><label><b>dtype:</b> int64</label>"
            ]
          },
          "metadata": {},
          "execution_count": 62
        }
      ],
      "source": [
        "#checking for equal number of instances\n",
        "class_counts = df['Behavior'].value_counts()\n",
        "print(class_counts)\n",
        "is_balanced = len(set(class_counts)) == 1\n",
        "print(f\"Are all classes balanced? Answer: {is_balanced}\")\n",
        "if not is_balanced:\n",
        "    print(\"Class distribution is not balanced.\")\n",
        "else:\n",
        "  print(\"Class distribution is balanced.\")\n",
        "df['Behavior'].value_counts()"
      ]
    },
    {
      "cell_type": "code",
      "execution_count": null,
      "metadata": {
        "id": "S9C96rXCLnrF",
        "colab": {
          "base_uri": "https://localhost:8080/",
          "height": 430
        },
        "outputId": "6c927533-f730-4d8e-893c-3e36f3b2a7f2"
      },
      "outputs": [
        {
          "output_type": "display_data",
          "data": {
            "text/plain": [
              "<Figure size 640x480 with 1 Axes>"
            ],
            "image/png": "[encoded data removed]"
          },
          "metadata": {}
        }
      ],
      "source": [
        "labels = ['s/c','c/s']\n",
        "values=[555,525]\n",
        "plt.bar(labels,values)\n",
        "plt.show()"
      ]
    },
    {
      "cell_type": "markdown",
      "source": [
        "Dataset pre-processing.\n",
        "\n",
        "\n",
        "Faults\n",
        "Null / Missing values\n",
        "\n",
        "Categorical values\n",
        "\n",
        "Feature Scaling\n"
      ],
      "metadata": {
        "id": "g2egoGpA_Ggr"
      }
    },
    {
      "cell_type": "code",
      "execution_count": null,
      "metadata": {
        "id": "oedimcf_NQHF",
        "colab": {
          "base_uri": "https://localhost:8080/"
        },
        "outputId": "29f4e9d9-fce8-4ef2-fe1f-db2c1c6c5863"
      },
      "outputs": [
        {
          "output_type": "stream",
          "name": "stdout",
          "text": [
            "MouseID      0\n",
            "DYRK1A_N     3\n",
            "ITSN1_N      3\n",
            "BDNF_N       3\n",
            "NR1_N        3\n",
            "            ..\n",
            "CaNA_N       0\n",
            "Genotype     0\n",
            "Treatment    0\n",
            "Behavior     0\n",
            "class        0\n",
            "Length: 82, dtype: int64\n",
            "['MouseID', 'Genotype', 'Treatment', 'Behavior', 'class']\n"
          ]
        }
      ],
      "source": [
        "#null value\n",
        "print(df.isna().sum())\n",
        "#category values\n",
        "non_numeric_col = df.select_dtypes(exclude=['number']).columns.tolist()\n",
        "print(non_numeric_col)"
      ]
    },
    {
      "cell_type": "code",
      "execution_count": null,
      "metadata": {
        "id": "CKwdzXt9NQKG",
        "colab": {
          "base_uri": "https://localhost:8080/"
        },
        "outputId": "c52df9fb-62bc-4157-a3a0-ef5ac75cb40f"
      },
      "outputs": [
        {
          "output_type": "execute_result",
          "data": {
            "text/plain": [
              "1080"
            ]
          },
          "metadata": {},
          "execution_count": 64
        }
      ],
      "source": [
        "len(df) #dealing with null values"
      ]
    },
    {
      "cell_type": "code",
      "execution_count": null,
      "metadata": {
        "id": "xN1YpI20NQNd",
        "colab": {
          "base_uri": "https://localhost:8080/"
        },
        "outputId": "fd8ddb26-157d-48e4-de0b-908db2aec170"
      },
      "outputs": [
        {
          "output_type": "stream",
          "name": "stdout",
          "text": [
            "528\n"
          ]
        }
      ],
      "source": [
        "null_rows = df.isnull().any(axis=1).sum()\n",
        "print(null_rows)"
      ]
    },
    {
      "cell_type": "code",
      "execution_count": null,
      "metadata": {
        "id": "_RDVb4KhLnus",
        "colab": {
          "base_uri": "https://localhost:8080/"
        },
        "outputId": "b7cd7039-345e-49d4-e9bc-9975487c88ea"
      },
      "outputs": [
        {
          "output_type": "stream",
          "name": "stdout",
          "text": [
            "['DYRK1A_N', 'ITSN1_N', 'BDNF_N', 'NR1_N', 'NR2A_N', 'pAKT_N', 'pBRAF_N', 'pCAMKII_N', 'pCREB_N', 'pELK_N', 'pERK_N', 'pJNK_N', 'PKCA_N', 'pMEK_N', 'pNR1_N', 'pNR2A_N', 'pNR2B_N', 'pPKCAB_N', 'pRSK_N', 'AKT_N', 'BRAF_N', 'CAMKII_N', 'CREB_N', 'ELK_N', 'ERK_N', 'GSK3B_N', 'JNK_N', 'MEK_N', 'TRKA_N', 'RSK_N', 'APP_N', 'Bcatenin_N', 'SOD1_N', 'MTOR_N', 'P38_N', 'pMTOR_N', 'DSCR1_N', 'AMPKA_N', 'NR2B_N', 'pNUMB_N', 'RAPTOR_N', 'TIAM1_N', 'pP70S6_N', 'BAD_N', 'BCL2_N', 'pCFOS_N', 'H3AcK18_N', 'EGR1_N', 'H3MeK4_N']\n"
          ]
        }
      ],
      "source": [
        "null_col = df.columns[df.isna().any()].tolist()\n",
        "print(null_col)"
      ]
    },
    {
      "cell_type": "code",
      "execution_count": null,
      "metadata": {
        "id": "XKZmsAqdO0-_"
      },
      "outputs": [],
      "source": [
        "for col in null_col:\n",
        "    if df[col].dtype == df['Behavior'].dtype: #dtype == categorical\n",
        "        mode = df[col].mode()[0]\n",
        "        df[col] = df[col].fillna(mode)\n",
        "    else: #dtype == numerical\n",
        "        df[col]= df[col].fillna(df[col].median())"
      ]
    },
    {
      "cell_type": "code",
      "execution_count": null,
      "metadata": {
        "id": "fHWdUqEMO1Bw",
        "colab": {
          "base_uri": "https://localhost:8080/",
          "height": 458
        },
        "outputId": "ed0a6d89-989f-4832-9495-d819312c2d3b"
      },
      "outputs": [
        {
          "output_type": "execute_result",
          "data": {
            "text/plain": [
              "MouseID      0\n",
              "DYRK1A_N     0\n",
              "ITSN1_N      0\n",
              "BDNF_N       0\n",
              "NR1_N        0\n",
              "            ..\n",
              "CaNA_N       0\n",
              "Genotype     0\n",
              "Treatment    0\n",
              "Behavior     0\n",
              "class        0\n",
              "Length: 82, dtype: int64"
            ],
            "text/html": [
              "<div>\n",
              "<style scoped>\n",
              "    .dataframe tbody tr th:only-of-type {\n",
              "        vertical-align: middle;\n",
              "    }\n",
              "\n",
              "    .dataframe tbody tr th {\n",
              "        vertical-align: top;\n",
              "    }\n",
              "\n",
              "    .dataframe thead th {\n",
              "        text-align: right;\n",
              "    }\n",
              "</style>\n",
              "<table border=\"1\" class=\"dataframe\">\n",
              "  <thead>\n",
              "    <tr style=\"text-align: right;\">\n",
              "      <th></th>\n",
              "      <th>0</th>\n",
              "    </tr>\n",
              "  </thead>\n",
              "  <tbody>\n",
              "    <tr>\n",
              "      <th>MouseID</th>\n",
              "      <td>0</td>\n",
              "    </tr>\n",
              "    <tr>\n",
              "      <th>DYRK1A_N</th>\n",
              "      <td>0</td>\n",
              "    </tr>\n",
              "    <tr>\n",
              "      <th>ITSN1_N</th>\n",
              "      <td>0</td>\n",
              "    </tr>\n",
              "    <tr>\n",
              "      <th>BDNF_N</th>\n",
              "      <td>0</td>\n",
              "    </tr>\n",
              "    <tr>\n",
              "      <th>NR1_N</th>\n",
              "      <td>0</td>\n",
              "    </tr>\n",
              "    <tr>\n",
              "      <th>...</th>\n",
              "      <td>...</td>\n",
              "    </tr>\n",
              "    <tr>\n",
              "      <th>CaNA_N</th>\n",
              "      <td>0</td>\n",
              "    </tr>\n",
              "    <tr>\n",
              "      <th>Genotype</th>\n",
              "      <td>0</td>\n",
              "    </tr>\n",
              "    <tr>\n",
              "      <th>Treatment</th>\n",
              "      <td>0</td>\n",
              "    </tr>\n",
              "    <tr>\n",
              "      <th>Behavior</th>\n",
              "      <td>0</td>\n",
              "    </tr>\n",
              "    <tr>\n",
              "      <th>class</th>\n",
              "      <td>0</td>\n",
              "    </tr>\n",
              "  </tbody>\n",
              "</table>\n",
              "<p>82 rows × 1 columns</p>\n",
              "</div><br><label><b>dtype:</b> int64</label>"
            ]
          },
          "metadata": {},
          "execution_count": 68
        }
      ],
      "source": [
        "df.isna().sum()\n",
        "\n",
        "#machine dosenot work with categorical value , it just works with numerical value"
      ]
    },
    {
      "cell_type": "code",
      "execution_count": null,
      "metadata": {
        "id": "TOZOR0c2O1El",
        "colab": {
          "base_uri": "https://localhost:8080/"
        },
        "outputId": "5d97b0ac-59c6-4319-c4d5-62bc36e57e02"
      },
      "outputs": [
        {
          "output_type": "stream",
          "name": "stdout",
          "text": [
            "['MouseID', 'Genotype', 'Treatment', 'Behavior', 'class']\n"
          ]
        }
      ],
      "source": [
        "#dealing with categorical value.\n",
        "print(non_numeric_col)"
      ]
    },
    {
      "cell_type": "code",
      "execution_count": null,
      "metadata": {
        "id": "oakSMBoOO1HY"
      },
      "outputs": [],
      "source": [
        "from sklearn.preprocessing import LabelEncoder\n",
        "le = LabelEncoder()\n",
        "for col in non_numeric_col:\n",
        "    df[col] = le.fit_transform(df[col])"
      ]
    },
    {
      "cell_type": "code",
      "execution_count": null,
      "metadata": {
        "id": "dhgb4V9wO1KU",
        "colab": {
          "base_uri": "https://localhost:8080/",
          "height": 458
        },
        "outputId": "5fa7bcd8-fc79-47f7-8628-0c828e3e2668"
      },
      "outputs": [
        {
          "output_type": "execute_result",
          "data": {
            "text/plain": [
              "MouseID        int64\n",
              "DYRK1A_N     float64\n",
              "ITSN1_N      float64\n",
              "BDNF_N       float64\n",
              "NR1_N        float64\n",
              "              ...   \n",
              "CaNA_N       float64\n",
              "Genotype       int64\n",
              "Treatment      int64\n",
              "Behavior       int64\n",
              "class          int64\n",
              "Length: 82, dtype: object"
            ],
            "text/html": [
              "<div>\n",
              "<style scoped>\n",
              "    .dataframe tbody tr th:only-of-type {\n",
              "        vertical-align: middle;\n",
              "    }\n",
              "\n",
              "    .dataframe tbody tr th {\n",
              "        vertical-align: top;\n",
              "    }\n",
              "\n",
              "    .dataframe thead th {\n",
              "        text-align: right;\n",
              "    }\n",
              "</style>\n",
              "<table border=\"1\" class=\"dataframe\">\n",
              "  <thead>\n",
              "    <tr style=\"text-align: right;\">\n",
              "      <th></th>\n",
              "      <th>0</th>\n",
              "    </tr>\n",
              "  </thead>\n",
              "  <tbody>\n",
              "    <tr>\n",
              "      <th>MouseID</th>\n",
              "      <td>int64</td>\n",
              "    </tr>\n",
              "    <tr>\n",
              "      <th>DYRK1A_N</th>\n",
              "      <td>float64</td>\n",
              "    </tr>\n",
              "    <tr>\n",
              "      <th>ITSN1_N</th>\n",
              "      <td>float64</td>\n",
              "    </tr>\n",
              "    <tr>\n",
              "      <th>BDNF_N</th>\n",
              "      <td>float64</td>\n",
              "    </tr>\n",
              "    <tr>\n",
              "      <th>NR1_N</th>\n",
              "      <td>float64</td>\n",
              "    </tr>\n",
              "    <tr>\n",
              "      <th>...</th>\n",
              "      <td>...</td>\n",
              "    </tr>\n",
              "    <tr>\n",
              "      <th>CaNA_N</th>\n",
              "      <td>float64</td>\n",
              "    </tr>\n",
              "    <tr>\n",
              "      <th>Genotype</th>\n",
              "      <td>int64</td>\n",
              "    </tr>\n",
              "    <tr>\n",
              "      <th>Treatment</th>\n",
              "      <td>int64</td>\n",
              "    </tr>\n",
              "    <tr>\n",
              "      <th>Behavior</th>\n",
              "      <td>int64</td>\n",
              "    </tr>\n",
              "    <tr>\n",
              "      <th>class</th>\n",
              "      <td>int64</td>\n",
              "    </tr>\n",
              "  </tbody>\n",
              "</table>\n",
              "<p>82 rows × 1 columns</p>\n",
              "</div><br><label><b>dtype:</b> object</label>"
            ]
          },
          "metadata": {},
          "execution_count": 71
        }
      ],
      "source": [
        "df.dtypes"
      ]
    },
    {
      "cell_type": "code",
      "execution_count": null,
      "metadata": {
        "id": "i02dOXrgO1Nc"
      },
      "outputs": [],
      "source": [
        "df['Behavior'] = df['Behavior'].astype('int64')"
      ]
    },
    {
      "cell_type": "code",
      "execution_count": null,
      "metadata": {
        "id": "Xy4YDoNUO1P6",
        "colab": {
          "base_uri": "https://localhost:8080/"
        },
        "outputId": "9fff7d5f-5136-4cbd-bb4c-6d3b40b09bec"
      },
      "outputs": [
        {
          "output_type": "stream",
          "name": "stdout",
          "text": [
            "MouseID: 97199.92\n",
            "DYRK1A_N: 0.06\n",
            "ITSN1_N: 0.06\n",
            "BDNF_N: 0.0\n",
            "NR1_N: 0.12\n",
            "NR2A_N: 0.87\n",
            "pAKT_N: 0.0\n",
            "pBRAF_N: 0.0\n",
            "pCAMKII_N: 1.67\n",
            "pCREB_N: 0.0\n",
            "pELK_N: 0.22\n",
            "pERK_N: 0.12\n",
            "pJNK_N: 0.0\n",
            "PKCA_N: 0.0\n",
            "pMEK_N: 0.0\n",
            "pNR1_N: 0.01\n",
            "pNR2A_N: 0.04\n",
            "pNR2B_N: 0.07\n",
            "pPKCAB_N: 0.23\n",
            "pRSK_N: 0.0\n",
            "AKT_N: 0.02\n",
            "BRAF_N: 0.05\n",
            "CAMKII_N: 0.0\n",
            "CREB_N: 0.0\n",
            "ELK_N: 0.11\n",
            "ERK_N: 0.43\n",
            "GSK3B_N: 0.06\n",
            "JNK_N: 0.0\n",
            "MEK_N: 0.0\n",
            "TRKA_N: 0.01\n",
            "RSK_N: 0.0\n",
            "APP_N: 0.0\n",
            "Bcatenin_N: 0.19\n",
            "SOD1_N: 0.08\n",
            "MTOR_N: 0.0\n",
            "P38_N: 0.01\n",
            "pMTOR_N: 0.01\n",
            "DSCR1_N: 0.01\n",
            "AMPKA_N: 0.0\n",
            "NR2B_N: 0.01\n",
            "pNUMB_N: 0.0\n",
            "RAPTOR_N: 0.0\n",
            "TIAM1_N: 0.0\n",
            "pP70S6_N: 0.02\n",
            "NUMB_N: 0.0\n",
            "P70S6_N: 0.03\n",
            "pGSK3B_N: 0.0\n",
            "pPKCG_N: 0.33\n",
            "CDK5_N: 0.0\n",
            "S6_N: 0.02\n",
            "ADARB1_N: 0.13\n",
            "AcetylH3K9_N: 0.03\n",
            "RRP1_N: 0.0\n",
            "BAX_N: 0.0\n",
            "ARC_N: 0.0\n",
            "ERBB4_N: 0.0\n",
            "nNOS_N: 0.0\n",
            "Tau_N: 0.0\n",
            "GFAP_N: 0.0\n",
            "GluR3_N: 0.0\n",
            "GluR4_N: 0.0\n",
            "IL1B_N: 0.01\n",
            "P3525_N: 0.0\n",
            "pCASP9_N: 0.06\n",
            "PSD95_N: 0.06\n",
            "SNCA_N: 0.0\n",
            "Ubiquitin_N: 0.03\n",
            "pGSK3B_Tyr216_N: 0.01\n",
            "SHH_N: 0.0\n",
            "BAD_N: 0.0\n",
            "BCL2_N: 0.0\n",
            "pS6_N: 0.0\n",
            "pCFOS_N: 0.0\n",
            "SYP_N: 0.0\n",
            "H3AcK18_N: 0.0\n",
            "EGR1_N: 0.0\n",
            "H3MeK4_N: 0.0\n",
            "CaNA_N: 0.1\n",
            "Genotype: 0.25\n",
            "Treatment: 0.25\n",
            "Behavior: 0.25\n",
            "class: 5.38\n"
          ]
        }
      ],
      "source": [
        "#scaling\n",
        "import numpy as np\n",
        "for col in df.columns.to_list():\n",
        "    col_var = np.var(df[col])\n",
        "    print(f\"{col}: {round(col_var, 2)}\")"
      ]
    },
    {
      "cell_type": "code",
      "execution_count": null,
      "metadata": {
        "id": "qrqDZ3nZO1Ti",
        "colab": {
          "base_uri": "https://localhost:8080/"
        },
        "outputId": "40ab4112-6e7c-4948-8313-52ceb88ea55d"
      },
      "outputs": [
        {
          "output_type": "stream",
          "name": "stdout",
          "text": [
            "-1.0\n",
            "1.0\n"
          ]
        }
      ],
      "source": [
        "y = [0,1]\n",
        "std = np.std(y)\n",
        "mean = np.mean(y)\n",
        "print((0-mean)/std)\n",
        "print((1-mean)/std)"
      ]
    },
    {
      "cell_type": "code",
      "execution_count": null,
      "metadata": {
        "id": "GfVe38BCTdcU",
        "colab": {
          "base_uri": "https://localhost:8080/"
        },
        "outputId": "49979cbf-9a82-4ab2-9315-6a90ab4581d6"
      },
      "outputs": [
        {
          "output_type": "stream",
          "name": "stdout",
          "text": [
            "['MouseID', 'DYRK1A_N', 'ITSN1_N', 'BDNF_N', 'NR1_N', 'NR2A_N', 'pAKT_N', 'pBRAF_N', 'pCAMKII_N', 'pCREB_N', 'pELK_N', 'pERK_N', 'pJNK_N', 'PKCA_N', 'pMEK_N', 'pNR1_N', 'pNR2A_N', 'pNR2B_N', 'pPKCAB_N', 'pRSK_N', 'AKT_N', 'BRAF_N', 'CAMKII_N', 'CREB_N', 'ELK_N', 'ERK_N', 'GSK3B_N', 'JNK_N', 'MEK_N', 'TRKA_N', 'RSK_N', 'APP_N', 'Bcatenin_N', 'SOD1_N', 'MTOR_N', 'P38_N', 'pMTOR_N', 'DSCR1_N', 'AMPKA_N', 'NR2B_N', 'pNUMB_N', 'RAPTOR_N', 'TIAM1_N', 'pP70S6_N', 'NUMB_N', 'P70S6_N', 'pGSK3B_N', 'pPKCG_N', 'CDK5_N', 'S6_N', 'ADARB1_N', 'AcetylH3K9_N', 'RRP1_N', 'BAX_N', 'ARC_N', 'ERBB4_N', 'nNOS_N', 'Tau_N', 'GFAP_N', 'GluR3_N', 'GluR4_N', 'IL1B_N', 'P3525_N', 'pCASP9_N', 'PSD95_N', 'SNCA_N', 'Ubiquitin_N', 'pGSK3B_Tyr216_N', 'SHH_N', 'BAD_N', 'BCL2_N', 'pS6_N', 'pCFOS_N', 'SYP_N', 'H3AcK18_N', 'EGR1_N', 'H3MeK4_N', 'CaNA_N', 'Genotype', 'Treatment', 'class']\n"
          ]
        }
      ],
      "source": [
        "features = df.drop('Behavior', axis = 1).columns.to_list()\n",
        "print(features)"
      ]
    },
    {
      "cell_type": "code",
      "execution_count": null,
      "metadata": {
        "id": "EaFee1ViTdff",
        "colab": {
          "base_uri": "https://localhost:8080/",
          "height": 161
        },
        "outputId": "12ad4545-9a46-4a4e-e276-e3144b4746cd"
      },
      "outputs": [
        {
          "output_type": "execute_result",
          "data": {
            "text/plain": [
              "   MouseID  DYRK1A_N   ITSN1_N    BDNF_N     NR1_N    NR2A_N    pAKT_N  \\\n",
              "0       45  0.503644  0.747193  0.430175  2.816329  5.990152  0.218830   \n",
              "1       52  0.514617  0.689064  0.411770  2.789514  5.685038  0.211636   \n",
              "\n",
              "    pBRAF_N  pCAMKII_N   pCREB_N  ...   pCFOS_N     SYP_N  H3AcK18_N  \\\n",
              "0  0.177565   2.373744  0.232224  ...  0.108336  0.427099   0.114783   \n",
              "1  0.172817   2.292150  0.226972  ...  0.104315  0.441581   0.111974   \n",
              "\n",
              "     EGR1_N  H3MeK4_N    CaNA_N  Genotype  Treatment  Behavior  class  \n",
              "0  0.131790  0.128186  1.675652         0          0         0      0  \n",
              "1  0.135103  0.131119  1.743610         0          0         0      0  \n",
              "\n",
              "[2 rows x 82 columns]"
            ],
            "text/html": [
              "\n",
              "  <div id=\"df-c17b7c29-345c-42df-b338-10ae6d111c66\" class=\"colab-df-container\">\n",
              "    <div>\n",
              "<style scoped>\n",
              "    .dataframe tbody tr th:only-of-type {\n",
              "        vertical-align: middle;\n",
              "    }\n",
              "\n",
              "    .dataframe tbody tr th {\n",
              "        vertical-align: top;\n",
              "    }\n",
              "\n",
              "    .dataframe thead th {\n",
              "        text-align: right;\n",
              "    }\n",
              "</style>\n",
              "<table border=\"1\" class=\"dataframe\">\n",
              "  <thead>\n",
              "    <tr style=\"text-align: right;\">\n",
              "      <th></th>\n",
              "      <th>MouseID</th>\n",
              "      <th>DYRK1A_N</th>\n",
              "      <th>ITSN1_N</th>\n",
              "      <th>BDNF_N</th>\n",
              "      <th>NR1_N</th>\n",
              "      <th>NR2A_N</th>\n",
              "      <th>pAKT_N</th>\n",
              "      <th>pBRAF_N</th>\n",
              "      <th>pCAMKII_N</th>\n",
              "      <th>pCREB_N</th>\n",
              "      <th>...</th>\n",
              "      <th>pCFOS_N</th>\n",
              "      <th>SYP_N</th>\n",
              "      <th>H3AcK18_N</th>\n",
              "      <th>EGR1_N</th>\n",
              "      <th>H3MeK4_N</th>\n",
              "      <th>CaNA_N</th>\n",
              "      <th>Genotype</th>\n",
              "      <th>Treatment</th>\n",
              "      <th>Behavior</th>\n",
              "      <th>class</th>\n",
              "    </tr>\n",
              "  </thead>\n",
              "  <tbody>\n",
              "    <tr>\n",
              "      <th>0</th>\n",
              "      <td>45</td>\n",
              "      <td>0.503644</td>\n",
              "      <td>0.747193</td>\n",
              "      <td>0.430175</td>\n",
              "      <td>2.816329</td>\n",
              "      <td>5.990152</td>\n",
              "      <td>0.218830</td>\n",
              "      <td>0.177565</td>\n",
              "      <td>2.373744</td>\n",
              "      <td>0.232224</td>\n",
              "      <td>...</td>\n",
              "      <td>0.108336</td>\n",
              "      <td>0.427099</td>\n",
              "      <td>0.114783</td>\n",
              "      <td>0.131790</td>\n",
              "      <td>0.128186</td>\n",
              "      <td>1.675652</td>\n",
              "      <td>0</td>\n",
              "      <td>0</td>\n",
              "      <td>0</td>\n",
              "      <td>0</td>\n",
              "    </tr>\n",
              "    <tr>\n",
              "      <th>1</th>\n",
              "      <td>52</td>\n",
              "      <td>0.514617</td>\n",
              "      <td>0.689064</td>\n",
              "      <td>0.411770</td>\n",
              "      <td>2.789514</td>\n",
              "      <td>5.685038</td>\n",
              "      <td>0.211636</td>\n",
              "      <td>0.172817</td>\n",
              "      <td>2.292150</td>\n",
              "      <td>0.226972</td>\n",
              "      <td>...</td>\n",
              "      <td>0.104315</td>\n",
              "      <td>0.441581</td>\n",
              "      <td>0.111974</td>\n",
              "      <td>0.135103</td>\n",
              "      <td>0.131119</td>\n",
              "      <td>1.743610</td>\n",
              "      <td>0</td>\n",
              "      <td>0</td>\n",
              "      <td>0</td>\n",
              "      <td>0</td>\n",
              "    </tr>\n",
              "  </tbody>\n",
              "</table>\n",
              "<p>2 rows × 82 columns</p>\n",
              "</div>\n",
              "    <div class=\"colab-df-buttons\">\n",
              "\n",
              "  <div class=\"colab-df-container\">\n",
              "    <button class=\"colab-df-convert\" onclick=\"convertToInteractive('df-c17b7c29-345c-42df-b338-10ae6d111c66')\"\n",
              "            title=\"Convert this dataframe to an interactive table.\"\n",
              "            style=\"display:none;\">\n",
              "\n",
              "  <svg xmlns=\"http://www.w3.org/2000/svg\" height=\"24px\" viewBox=\"0 -960 960 960\">\n",
              "    <path d=\"M120-120v-720h720v720H120Zm60-500h600v-160H180v160Zm220 220h160v-160H400v160Zm0 220h160v-160H400v160ZM180-400h160v-160H180v160Zm440 0h160v-160H620v160ZM180-180h160v-160H180v160Zm440 0h160v-160H620v160Z\"/>\n",
              "  </svg>\n",
              "    </button>\n",
              "\n",
              "  <style>\n",
              "    .colab-df-container {\n",
              "      display:flex;\n",
              "      gap: 12px;\n",
              "    }\n",
              "\n",
              "    .colab-df-convert {\n",
              "      background-color: #E8F0FE;\n",
              "      border: none;\n",
              "      border-radius: 50%;\n",
              "      cursor: pointer;\n",
              "      display: none;\n",
              "      fill: #1967D2;\n",
              "      height: 32px;\n",
              "      padding: 0 0 0 0;\n",
              "      width: 32px;\n",
              "    }\n",
              "\n",
              "    .colab-df-convert:hover {\n",
              "      background-color: #E2EBFA;\n",
              "      box-shadow: 0px 1px 2px rgba(60, 64, 67, 0.3), 0px 1px 3px 1px rgba(60, 64, 67, 0.15);\n",
              "      fill: #174EA6;\n",
              "    }\n",
              "\n",
              "    .colab-df-buttons div {\n",
              "      margin-bottom: 4px;\n",
              "    }\n",
              "\n",
              "    [theme=dark] .colab-df-convert {\n",
              "      background-color: #3B4455;\n",
              "      fill: #D2E3FC;\n",
              "    }\n",
              "\n",
              "    [theme=dark] .colab-df-convert:hover {\n",
              "      background-color: #434B5C;\n",
              "      box-shadow: 0px 1px 3px 1px rgba(0, 0, 0, 0.15);\n",
              "      filter: drop-shadow(0px 1px 2px rgba(0, 0, 0, 0.3));\n",
              "      fill: #FFFFFF;\n",
              "    }\n",
              "  </style>\n",
              "\n",
              "    <script>\n",
              "      const buttonEl =\n",
              "        document.querySelector('#df-c17b7c29-345c-42df-b338-10ae6d111c66 button.colab-df-convert');\n",
              "      buttonEl.style.display =\n",
              "        google.colab.kernel.accessAllowed ? 'block' : 'none';\n",
              "\n",
              "      async function convertToInteractive(key) {\n",
              "        const element = document.querySelector('#df-c17b7c29-345c-42df-b338-10ae6d111c66');\n",
              "        const dataTable =\n",
              "          await google.colab.kernel.invokeFunction('convertToInteractive',\n",
              "                                                    [key], {});\n",
              "        if (!dataTable) return;\n",
              "\n",
              "        const docLinkHtml = 'Like what you see? Visit the ' +\n",
              "          '<a target=\"_blank\" href=https://colab.research.google.com/notebooks/data_table.ipynb>data table notebook</a>'\n",
              "          + ' to learn more about interactive tables.';\n",
              "        element.innerHTML = '';\n",
              "        dataTable['output_type'] = 'display_data';\n",
              "        await google.colab.output.renderOutput(dataTable, element);\n",
              "        const docLink = document.createElement('div');\n",
              "        docLink.innerHTML = docLinkHtml;\n",
              "        element.appendChild(docLink);\n",
              "      }\n",
              "    </script>\n",
              "  </div>\n",
              "\n",
              "\n",
              "    <div id=\"df-42a1fffd-9e19-40cd-9318-cc37fc067830\">\n",
              "      <button class=\"colab-df-quickchart\" onclick=\"quickchart('df-42a1fffd-9e19-40cd-9318-cc37fc067830')\"\n",
              "                title=\"Suggest charts\"\n",
              "                style=\"display:none;\">\n",
              "\n",
              "<svg xmlns=\"http://www.w3.org/2000/svg\" height=\"24px\"viewBox=\"0 0 24 24\"\n",
              "     width=\"24px\">\n",
              "    <g>\n",
              "        <path d=\"M19 3H5c-1.1 0-2 .9-2 2v14c0 1.1.9 2 2 2h14c1.1 0 2-.9 2-2V5c0-1.1-.9-2-2-2zM9 17H7v-7h2v7zm4 0h-2V7h2v10zm4 0h-2v-4h2v4z\"/>\n",
              "    </g>\n",
              "</svg>\n",
              "      </button>\n",
              "\n",
              "<style>\n",
              "  .colab-df-quickchart {\n",
              "      --bg-color: #E8F0FE;\n",
              "      --fill-color: #1967D2;\n",
              "      --hover-bg-color: #E2EBFA;\n",
              "      --hover-fill-color: #174EA6;\n",
              "      --disabled-fill-color: #AAA;\n",
              "      --disabled-bg-color: #DDD;\n",
              "  }\n",
              "\n",
              "  [theme=dark] .colab-df-quickchart {\n",
              "      --bg-color: #3B4455;\n",
              "      --fill-color: #D2E3FC;\n",
              "      --hover-bg-color: #434B5C;\n",
              "      --hover-fill-color: #FFFFFF;\n",
              "      --disabled-bg-color: #3B4455;\n",
              "      --disabled-fill-color: #666;\n",
              "  }\n",
              "\n",
              "  .colab-df-quickchart {\n",
              "    background-color: var(--bg-color);\n",
              "    border: none;\n",
              "    border-radius: 50%;\n",
              "    cursor: pointer;\n",
              "    display: none;\n",
              "    fill: var(--fill-color);\n",
              "    height: 32px;\n",
              "    padding: 0;\n",
              "    width: 32px;\n",
              "  }\n",
              "\n",
              "  .colab-df-quickchart:hover {\n",
              "    background-color: var(--hover-bg-color);\n",
              "    box-shadow: 0 1px 2px rgba(60, 64, 67, 0.3), 0 1px 3px 1px rgba(60, 64, 67, 0.15);\n",
              "    fill: var(--button-hover-fill-color);\n",
              "  }\n",
              "\n",
              "  .colab-df-quickchart-complete:disabled,\n",
              "  .colab-df-quickchart-complete:disabled:hover {\n",
              "    background-color: var(--disabled-bg-color);\n",
              "    fill: var(--disabled-fill-color);\n",
              "    box-shadow: none;\n",
              "  }\n",
              "\n",
              "  .colab-df-spinner {\n",
              "    border: 2px solid var(--fill-color);\n",
              "    border-color: transparent;\n",
              "    border-bottom-color: var(--fill-color);\n",
              "    animation:\n",
              "      spin 1s steps(1) infinite;\n",
              "  }\n",
              "\n",
              "  @keyframes spin {\n",
              "    0% {\n",
              "      border-color: transparent;\n",
              "      border-bottom-color: var(--fill-color);\n",
              "      border-left-color: var(--fill-color);\n",
              "    }\n",
              "    20% {\n",
              "      border-color: transparent;\n",
              "      border-left-color: var(--fill-color);\n",
              "      border-top-color: var(--fill-color);\n",
              "    }\n",
              "    30% {\n",
              "      border-color: transparent;\n",
              "      border-left-color: var(--fill-color);\n",
              "      border-top-color: var(--fill-color);\n",
              "      border-right-color: var(--fill-color);\n",
              "    }\n",
              "    40% {\n",
              "      border-color: transparent;\n",
              "      border-right-color: var(--fill-color);\n",
              "      border-top-color: var(--fill-color);\n",
              "    }\n",
              "    60% {\n",
              "      border-color: transparent;\n",
              "      border-right-color: var(--fill-color);\n",
              "    }\n",
              "    80% {\n",
              "      border-color: transparent;\n",
              "      border-right-color: var(--fill-color);\n",
              "      border-bottom-color: var(--fill-color);\n",
              "    }\n",
              "    90% {\n",
              "      border-color: transparent;\n",
              "      border-bottom-color: var(--fill-color);\n",
              "    }\n",
              "  }\n",
              "</style>\n",
              "\n",
              "      <script>\n",
              "        async function quickchart(key) {\n",
              "          const quickchartButtonEl =\n",
              "            document.querySelector('#' + key + ' button');\n",
              "          quickchartButtonEl.disabled = true;  // To prevent multiple clicks.\n",
              "          quickchartButtonEl.classList.add('colab-df-spinner');\n",
              "          try {\n",
              "            const charts = await google.colab.kernel.invokeFunction(\n",
              "                'suggestCharts', [key], {});\n",
              "          } catch (error) {\n",
              "            console.error('Error during call to suggestCharts:', error);\n",
              "          }\n",
              "          quickchartButtonEl.classList.remove('colab-df-spinner');\n",
              "          quickchartButtonEl.classList.add('colab-df-quickchart-complete');\n",
              "        }\n",
              "        (() => {\n",
              "          let quickchartButtonEl =\n",
              "            document.querySelector('#df-42a1fffd-9e19-40cd-9318-cc37fc067830 button');\n",
              "          quickchartButtonEl.style.display =\n",
              "            google.colab.kernel.accessAllowed ? 'block' : 'none';\n",
              "        })();\n",
              "      </script>\n",
              "    </div>\n",
              "\n",
              "    </div>\n",
              "  </div>\n"
            ],
            "application/vnd.google.colaboratory.intrinsic+json": {
              "type": "dataframe",
              "variable_name": "df"
            }
          },
          "metadata": {},
          "execution_count": 76
        }
      ],
      "source": [
        "df.head(2) #without scale"
      ]
    },
    {
      "cell_type": "code",
      "execution_count": null,
      "metadata": {
        "id": "ignADxRJUKDs",
        "colab": {
          "base_uri": "https://localhost:8080/",
          "height": 161
        },
        "outputId": "81715bc9-f1aa-4da7-8eb4-960d30f30bca"
      },
      "outputs": [
        {
          "output_type": "execute_result",
          "data": {
            "text/plain": [
              "    MouseID  DYRK1A_N   ITSN1_N    BDNF_N     NR1_N    NR2A_N    pAKT_N  \\\n",
              "0 -1.586110  0.313350  0.518471  2.253803  1.497368  2.304588 -0.344885   \n",
              "1 -1.563658  0.357433  0.287052  1.880415  1.420015  1.976995 -0.517992   \n",
              "\n",
              "    pBRAF_N  pCAMKII_N   pCREB_N  ...   pCFOS_N     SYP_N  H3AcK18_N  \\\n",
              "0 -0.158648  -0.899416  0.604281  ... -0.972480 -0.285744  -0.973682   \n",
              "1 -0.334569  -0.962530  0.442825  ... -1.147005 -0.067645  -1.025367   \n",
              "\n",
              "     EGR1_N  H3MeK4_N    CaNA_N  Genotype  Treatment  Behavior     class  \n",
              "0 -1.367167 -1.540161  1.065901 -0.945905  -0.945905         0 -1.461523  \n",
              "1 -1.276125 -1.479437  1.280291 -0.945905  -0.945905         0 -1.461523  \n",
              "\n",
              "[2 rows x 82 columns]"
            ],
            "text/html": [
              "\n",
              "  <div id=\"df-15131e21-1627-4f61-88e5-4e0128c90621\" class=\"colab-df-container\">\n",
              "    <div>\n",
              "<style scoped>\n",
              "    .dataframe tbody tr th:only-of-type {\n",
              "        vertical-align: middle;\n",
              "    }\n",
              "\n",
              "    .dataframe tbody tr th {\n",
              "        vertical-align: top;\n",
              "    }\n",
              "\n",
              "    .dataframe thead th {\n",
              "        text-align: right;\n",
              "    }\n",
              "</style>\n",
              "<table border=\"1\" class=\"dataframe\">\n",
              "  <thead>\n",
              "    <tr style=\"text-align: right;\">\n",
              "      <th></th>\n",
              "      <th>MouseID</th>\n",
              "      <th>DYRK1A_N</th>\n",
              "      <th>ITSN1_N</th>\n",
              "      <th>BDNF_N</th>\n",
              "      <th>NR1_N</th>\n",
              "      <th>NR2A_N</th>\n",
              "      <th>pAKT_N</th>\n",
              "      <th>pBRAF_N</th>\n",
              "      <th>pCAMKII_N</th>\n",
              "      <th>pCREB_N</th>\n",
              "      <th>...</th>\n",
              "      <th>pCFOS_N</th>\n",
              "      <th>SYP_N</th>\n",
              "      <th>H3AcK18_N</th>\n",
              "      <th>EGR1_N</th>\n",
              "      <th>H3MeK4_N</th>\n",
              "      <th>CaNA_N</th>\n",
              "      <th>Genotype</th>\n",
              "      <th>Treatment</th>\n",
              "      <th>Behavior</th>\n",
              "      <th>class</th>\n",
              "    </tr>\n",
              "  </thead>\n",
              "  <tbody>\n",
              "    <tr>\n",
              "      <th>0</th>\n",
              "      <td>-1.586110</td>\n",
              "      <td>0.313350</td>\n",
              "      <td>0.518471</td>\n",
              "      <td>2.253803</td>\n",
              "      <td>1.497368</td>\n",
              "      <td>2.304588</td>\n",
              "      <td>-0.344885</td>\n",
              "      <td>-0.158648</td>\n",
              "      <td>-0.899416</td>\n",
              "      <td>0.604281</td>\n",
              "      <td>...</td>\n",
              "      <td>-0.972480</td>\n",
              "      <td>-0.285744</td>\n",
              "      <td>-0.973682</td>\n",
              "      <td>-1.367167</td>\n",
              "      <td>-1.540161</td>\n",
              "      <td>1.065901</td>\n",
              "      <td>-0.945905</td>\n",
              "      <td>-0.945905</td>\n",
              "      <td>0</td>\n",
              "      <td>-1.461523</td>\n",
              "    </tr>\n",
              "    <tr>\n",
              "      <th>1</th>\n",
              "      <td>-1.563658</td>\n",
              "      <td>0.357433</td>\n",
              "      <td>0.287052</td>\n",
              "      <td>1.880415</td>\n",
              "      <td>1.420015</td>\n",
              "      <td>1.976995</td>\n",
              "      <td>-0.517992</td>\n",
              "      <td>-0.334569</td>\n",
              "      <td>-0.962530</td>\n",
              "      <td>0.442825</td>\n",
              "      <td>...</td>\n",
              "      <td>-1.147005</td>\n",
              "      <td>-0.067645</td>\n",
              "      <td>-1.025367</td>\n",
              "      <td>-1.276125</td>\n",
              "      <td>-1.479437</td>\n",
              "      <td>1.280291</td>\n",
              "      <td>-0.945905</td>\n",
              "      <td>-0.945905</td>\n",
              "      <td>0</td>\n",
              "      <td>-1.461523</td>\n",
              "    </tr>\n",
              "  </tbody>\n",
              "</table>\n",
              "<p>2 rows × 82 columns</p>\n",
              "</div>\n",
              "    <div class=\"colab-df-buttons\">\n",
              "\n",
              "  <div class=\"colab-df-container\">\n",
              "    <button class=\"colab-df-convert\" onclick=\"convertToInteractive('df-15131e21-1627-4f61-88e5-4e0128c90621')\"\n",
              "            title=\"Convert this dataframe to an interactive table.\"\n",
              "            style=\"display:none;\">\n",
              "\n",
              "  <svg xmlns=\"http://www.w3.org/2000/svg\" height=\"24px\" viewBox=\"0 -960 960 960\">\n",
              "    <path d=\"M120-120v-720h720v720H120Zm60-500h600v-160H180v160Zm220 220h160v-160H400v160Zm0 220h160v-160H400v160ZM180-400h160v-160H180v160Zm440 0h160v-160H620v160ZM180-180h160v-160H180v160Zm440 0h160v-160H620v160Z\"/>\n",
              "  </svg>\n",
              "    </button>\n",
              "\n",
              "  <style>\n",
              "    .colab-df-container {\n",
              "      display:flex;\n",
              "      gap: 12px;\n",
              "    }\n",
              "\n",
              "    .colab-df-convert {\n",
              "      background-color: #E8F0FE;\n",
              "      border: none;\n",
              "      border-radius: 50%;\n",
              "      cursor: pointer;\n",
              "      display: none;\n",
              "      fill: #1967D2;\n",
              "      height: 32px;\n",
              "      padding: 0 0 0 0;\n",
              "      width: 32px;\n",
              "    }\n",
              "\n",
              "    .colab-df-convert:hover {\n",
              "      background-color: #E2EBFA;\n",
              "      box-shadow: 0px 1px 2px rgba(60, 64, 67, 0.3), 0px 1px 3px 1px rgba(60, 64, 67, 0.15);\n",
              "      fill: #174EA6;\n",
              "    }\n",
              "\n",
              "    .colab-df-buttons div {\n",
              "      margin-bottom: 4px;\n",
              "    }\n",
              "\n",
              "    [theme=dark] .colab-df-convert {\n",
              "      background-color: #3B4455;\n",
              "      fill: #D2E3FC;\n",
              "    }\n",
              "\n",
              "    [theme=dark] .colab-df-convert:hover {\n",
              "      background-color: #434B5C;\n",
              "      box-shadow: 0px 1px 3px 1px rgba(0, 0, 0, 0.15);\n",
              "      filter: drop-shadow(0px 1px 2px rgba(0, 0, 0, 0.3));\n",
              "      fill: #FFFFFF;\n",
              "    }\n",
              "  </style>\n",
              "\n",
              "    <script>\n",
              "      const buttonEl =\n",
              "        document.querySelector('#df-15131e21-1627-4f61-88e5-4e0128c90621 button.colab-df-convert');\n",
              "      buttonEl.style.display =\n",
              "        google.colab.kernel.accessAllowed ? 'block' : 'none';\n",
              "\n",
              "      async function convertToInteractive(key) {\n",
              "        const element = document.querySelector('#df-15131e21-1627-4f61-88e5-4e0128c90621');\n",
              "        const dataTable =\n",
              "          await google.colab.kernel.invokeFunction('convertToInteractive',\n",
              "                                                    [key], {});\n",
              "        if (!dataTable) return;\n",
              "\n",
              "        const docLinkHtml = 'Like what you see? Visit the ' +\n",
              "          '<a target=\"_blank\" href=https://colab.research.google.com/notebooks/data_table.ipynb>data table notebook</a>'\n",
              "          + ' to learn more about interactive tables.';\n",
              "        element.innerHTML = '';\n",
              "        dataTable['output_type'] = 'display_data';\n",
              "        await google.colab.output.renderOutput(dataTable, element);\n",
              "        const docLink = document.createElement('div');\n",
              "        docLink.innerHTML = docLinkHtml;\n",
              "        element.appendChild(docLink);\n",
              "      }\n",
              "    </script>\n",
              "  </div>\n",
              "\n",
              "\n",
              "    <div id=\"df-9009338b-6244-4404-9fad-e4c65a304129\">\n",
              "      <button class=\"colab-df-quickchart\" onclick=\"quickchart('df-9009338b-6244-4404-9fad-e4c65a304129')\"\n",
              "                title=\"Suggest charts\"\n",
              "                style=\"display:none;\">\n",
              "\n",
              "<svg xmlns=\"http://www.w3.org/2000/svg\" height=\"24px\"viewBox=\"0 0 24 24\"\n",
              "     width=\"24px\">\n",
              "    <g>\n",
              "        <path d=\"M19 3H5c-1.1 0-2 .9-2 2v14c0 1.1.9 2 2 2h14c1.1 0 2-.9 2-2V5c0-1.1-.9-2-2-2zM9 17H7v-7h2v7zm4 0h-2V7h2v10zm4 0h-2v-4h2v4z\"/>\n",
              "    </g>\n",
              "</svg>\n",
              "      </button>\n",
              "\n",
              "<style>\n",
              "  .colab-df-quickchart {\n",
              "      --bg-color: #E8F0FE;\n",
              "      --fill-color: #1967D2;\n",
              "      --hover-bg-color: #E2EBFA;\n",
              "      --hover-fill-color: #174EA6;\n",
              "      --disabled-fill-color: #AAA;\n",
              "      --disabled-bg-color: #DDD;\n",
              "  }\n",
              "\n",
              "  [theme=dark] .colab-df-quickchart {\n",
              "      --bg-color: #3B4455;\n",
              "      --fill-color: #D2E3FC;\n",
              "      --hover-bg-color: #434B5C;\n",
              "      --hover-fill-color: #FFFFFF;\n",
              "      --disabled-bg-color: #3B4455;\n",
              "      --disabled-fill-color: #666;\n",
              "  }\n",
              "\n",
              "  .colab-df-quickchart {\n",
              "    background-color: var(--bg-color);\n",
              "    border: none;\n",
              "    border-radius: 50%;\n",
              "    cursor: pointer;\n",
              "    display: none;\n",
              "    fill: var(--fill-color);\n",
              "    height: 32px;\n",
              "    padding: 0;\n",
              "    width: 32px;\n",
              "  }\n",
              "\n",
              "  .colab-df-quickchart:hover {\n",
              "    background-color: var(--hover-bg-color);\n",
              "    box-shadow: 0 1px 2px rgba(60, 64, 67, 0.3), 0 1px 3px 1px rgba(60, 64, 67, 0.15);\n",
              "    fill: var(--button-hover-fill-color);\n",
              "  }\n",
              "\n",
              "  .colab-df-quickchart-complete:disabled,\n",
              "  .colab-df-quickchart-complete:disabled:hover {\n",
              "    background-color: var(--disabled-bg-color);\n",
              "    fill: var(--disabled-fill-color);\n",
              "    box-shadow: none;\n",
              "  }\n",
              "\n",
              "  .colab-df-spinner {\n",
              "    border: 2px solid var(--fill-color);\n",
              "    border-color: transparent;\n",
              "    border-bottom-color: var(--fill-color);\n",
              "    animation:\n",
              "      spin 1s steps(1) infinite;\n",
              "  }\n",
              "\n",
              "  @keyframes spin {\n",
              "    0% {\n",
              "      border-color: transparent;\n",
              "      border-bottom-color: var(--fill-color);\n",
              "      border-left-color: var(--fill-color);\n",
              "    }\n",
              "    20% {\n",
              "      border-color: transparent;\n",
              "      border-left-color: var(--fill-color);\n",
              "      border-top-color: var(--fill-color);\n",
              "    }\n",
              "    30% {\n",
              "      border-color: transparent;\n",
              "      border-left-color: var(--fill-color);\n",
              "      border-top-color: var(--fill-color);\n",
              "      border-right-color: var(--fill-color);\n",
              "    }\n",
              "    40% {\n",
              "      border-color: transparent;\n",
              "      border-right-color: var(--fill-color);\n",
              "      border-top-color: var(--fill-color);\n",
              "    }\n",
              "    60% {\n",
              "      border-color: transparent;\n",
              "      border-right-color: var(--fill-color);\n",
              "    }\n",
              "    80% {\n",
              "      border-color: transparent;\n",
              "      border-right-color: var(--fill-color);\n",
              "      border-bottom-color: var(--fill-color);\n",
              "    }\n",
              "    90% {\n",
              "      border-color: transparent;\n",
              "      border-bottom-color: var(--fill-color);\n",
              "    }\n",
              "  }\n",
              "</style>\n",
              "\n",
              "      <script>\n",
              "        async function quickchart(key) {\n",
              "          const quickchartButtonEl =\n",
              "            document.querySelector('#' + key + ' button');\n",
              "          quickchartButtonEl.disabled = true;  // To prevent multiple clicks.\n",
              "          quickchartButtonEl.classList.add('colab-df-spinner');\n",
              "          try {\n",
              "            const charts = await google.colab.kernel.invokeFunction(\n",
              "                'suggestCharts', [key], {});\n",
              "          } catch (error) {\n",
              "            console.error('Error during call to suggestCharts:', error);\n",
              "          }\n",
              "          quickchartButtonEl.classList.remove('colab-df-spinner');\n",
              "          quickchartButtonEl.classList.add('colab-df-quickchart-complete');\n",
              "        }\n",
              "        (() => {\n",
              "          let quickchartButtonEl =\n",
              "            document.querySelector('#df-9009338b-6244-4404-9fad-e4c65a304129 button');\n",
              "          quickchartButtonEl.style.display =\n",
              "            google.colab.kernel.accessAllowed ? 'block' : 'none';\n",
              "        })();\n",
              "      </script>\n",
              "    </div>\n",
              "\n",
              "    </div>\n",
              "  </div>\n"
            ],
            "application/vnd.google.colaboratory.intrinsic+json": {
              "type": "dataframe",
              "variable_name": "df"
            }
          },
          "metadata": {},
          "execution_count": 77
        }
      ],
      "source": [
        "#with scale\n",
        "from sklearn.preprocessing import StandardScaler\n",
        "scaler = StandardScaler()\n",
        "df[features] = scaler.fit_transform(df[features])\n",
        "df.head(2)"
      ]
    },
    {
      "cell_type": "code",
      "execution_count": null,
      "metadata": {
        "id": "F_9R5UPjTdiE",
        "colab": {
          "base_uri": "https://localhost:8080/"
        },
        "outputId": "e8988359-901b-4c49-dd26-7acef46b6ce6"
      },
      "outputs": [
        {
          "output_type": "stream",
          "name": "stdout",
          "text": [
            "MouseID: 1.0\n",
            "DYRK1A_N: 1.0\n",
            "ITSN1_N: 1.0\n",
            "BDNF_N: 1.0\n",
            "NR1_N: 1.0\n",
            "NR2A_N: 1.0\n",
            "pAKT_N: 1.0\n",
            "pBRAF_N: 1.0\n",
            "pCAMKII_N: 1.0\n",
            "pCREB_N: 1.0\n",
            "pELK_N: 1.0\n",
            "pERK_N: 1.0\n",
            "pJNK_N: 1.0\n",
            "PKCA_N: 1.0\n",
            "pMEK_N: 1.0\n",
            "pNR1_N: 1.0\n",
            "pNR2A_N: 1.0\n",
            "pNR2B_N: 1.0\n",
            "pPKCAB_N: 1.0\n",
            "pRSK_N: 1.0\n",
            "AKT_N: 1.0\n",
            "BRAF_N: 1.0\n",
            "CAMKII_N: 1.0\n",
            "CREB_N: 1.0\n",
            "ELK_N: 1.0\n",
            "ERK_N: 1.0\n",
            "GSK3B_N: 1.0\n",
            "JNK_N: 1.0\n",
            "MEK_N: 1.0\n",
            "TRKA_N: 1.0\n",
            "RSK_N: 1.0\n",
            "APP_N: 1.0\n",
            "Bcatenin_N: 1.0\n",
            "SOD1_N: 1.0\n",
            "MTOR_N: 1.0\n",
            "P38_N: 1.0\n",
            "pMTOR_N: 1.0\n",
            "DSCR1_N: 1.0\n",
            "AMPKA_N: 1.0\n",
            "NR2B_N: 1.0\n",
            "pNUMB_N: 1.0\n",
            "RAPTOR_N: 1.0\n",
            "TIAM1_N: 1.0\n",
            "pP70S6_N: 1.0\n",
            "NUMB_N: 1.0\n",
            "P70S6_N: 1.0\n",
            "pGSK3B_N: 1.0\n",
            "pPKCG_N: 1.0\n",
            "CDK5_N: 1.0\n",
            "S6_N: 1.0\n",
            "ADARB1_N: 1.0\n",
            "AcetylH3K9_N: 1.0\n",
            "RRP1_N: 1.0\n",
            "BAX_N: 1.0\n",
            "ARC_N: 1.0\n",
            "ERBB4_N: 1.0\n",
            "nNOS_N: 1.0\n",
            "Tau_N: 1.0\n",
            "GFAP_N: 1.0\n",
            "GluR3_N: 1.0\n",
            "GluR4_N: 1.0\n",
            "IL1B_N: 1.0\n",
            "P3525_N: 1.0\n",
            "pCASP9_N: 1.0\n",
            "PSD95_N: 1.0\n",
            "SNCA_N: 1.0\n",
            "Ubiquitin_N: 1.0\n",
            "pGSK3B_Tyr216_N: 1.0\n",
            "SHH_N: 1.0\n",
            "BAD_N: 1.0\n",
            "BCL2_N: 1.0\n",
            "pS6_N: 1.0\n",
            "pCFOS_N: 1.0\n",
            "SYP_N: 1.0\n",
            "H3AcK18_N: 1.0\n",
            "EGR1_N: 1.0\n",
            "H3MeK4_N: 1.0\n",
            "CaNA_N: 1.0\n",
            "Genotype: 1.0\n",
            "Treatment: 1.0\n",
            "Behavior: 0.25\n",
            "class: 1.0\n"
          ]
        }
      ],
      "source": [
        "for col in df.columns.to_list():\n",
        "    col_var = np.var(df[col])\n",
        "    print(f\"{col}: {round(col_var, 2)}\")"
      ]
    },
    {
      "cell_type": "markdown",
      "source": [
        "Dataset splitting\n",
        "\n",
        "Random/Stratified (as required)\n",
        "\n",
        "Train set (70%)\n",
        "\n",
        "Test set (30%)\n"
      ],
      "metadata": {
        "id": "OF5-tTvR_YoN"
      }
    },
    {
      "cell_type": "code",
      "execution_count": null,
      "metadata": {
        "id": "G5TbqFgWTdk8",
        "colab": {
          "base_uri": "https://localhost:8080/",
          "height": 178
        },
        "outputId": "563eaef5-ba4f-4fab-8455-43229600d74b"
      },
      "outputs": [
        {
          "output_type": "execute_result",
          "data": {
            "text/plain": [
              "Behavior\n",
              "1    555\n",
              "0    525\n",
              "Name: count, dtype: int64"
            ],
            "text/html": [
              "<div>\n",
              "<style scoped>\n",
              "    .dataframe tbody tr th:only-of-type {\n",
              "        vertical-align: middle;\n",
              "    }\n",
              "\n",
              "    .dataframe tbody tr th {\n",
              "        vertical-align: top;\n",
              "    }\n",
              "\n",
              "    .dataframe thead th {\n",
              "        text-align: right;\n",
              "    }\n",
              "</style>\n",
              "<table border=\"1\" class=\"dataframe\">\n",
              "  <thead>\n",
              "    <tr style=\"text-align: right;\">\n",
              "      <th></th>\n",
              "      <th>count</th>\n",
              "    </tr>\n",
              "    <tr>\n",
              "      <th>Behavior</th>\n",
              "      <th></th>\n",
              "    </tr>\n",
              "  </thead>\n",
              "  <tbody>\n",
              "    <tr>\n",
              "      <th>1</th>\n",
              "      <td>555</td>\n",
              "    </tr>\n",
              "    <tr>\n",
              "      <th>0</th>\n",
              "      <td>525</td>\n",
              "    </tr>\n",
              "  </tbody>\n",
              "</table>\n",
              "</div><br><label><b>dtype:</b> int64</label>"
            ]
          },
          "metadata": {},
          "execution_count": 79
        }
      ],
      "source": [
        "#Dataset splitting\n",
        "\n",
        "df['Behavior'].value_counts()\n"
      ]
    },
    {
      "cell_type": "code",
      "execution_count": null,
      "metadata": {
        "id": "i92fLnGhTdnw"
      },
      "outputs": [],
      "source": [
        "df_with_1 = df[df['Behavior']==1]\n",
        "df_with_0 = df[df['Behavior']==0]"
      ]
    },
    {
      "cell_type": "code",
      "execution_count": null,
      "metadata": {
        "id": "zuHYmfSmTdqe",
        "colab": {
          "base_uri": "https://localhost:8080/",
          "height": 178
        },
        "outputId": "c729a1cc-a8f7-49b8-8dcc-1162ff85eac9"
      },
      "outputs": [
        {
          "output_type": "execute_result",
          "data": {
            "text/plain": [
              "Behavior\n",
              "0    525\n",
              "1    525\n",
              "Name: count, dtype: int64"
            ],
            "text/html": [
              "<div>\n",
              "<style scoped>\n",
              "    .dataframe tbody tr th:only-of-type {\n",
              "        vertical-align: middle;\n",
              "    }\n",
              "\n",
              "    .dataframe tbody tr th {\n",
              "        vertical-align: top;\n",
              "    }\n",
              "\n",
              "    .dataframe thead th {\n",
              "        text-align: right;\n",
              "    }\n",
              "</style>\n",
              "<table border=\"1\" class=\"dataframe\">\n",
              "  <thead>\n",
              "    <tr style=\"text-align: right;\">\n",
              "      <th></th>\n",
              "      <th>count</th>\n",
              "    </tr>\n",
              "    <tr>\n",
              "      <th>Behavior</th>\n",
              "      <th></th>\n",
              "    </tr>\n",
              "  </thead>\n",
              "  <tbody>\n",
              "    <tr>\n",
              "      <th>0</th>\n",
              "      <td>525</td>\n",
              "    </tr>\n",
              "    <tr>\n",
              "      <th>1</th>\n",
              "      <td>525</td>\n",
              "    </tr>\n",
              "  </tbody>\n",
              "</table>\n",
              "</div><br><label><b>dtype:</b> int64</label>"
            ]
          },
          "metadata": {},
          "execution_count": 81
        }
      ],
      "source": [
        "reduce_samp_1 = df_with_1 .sample(n = 525, replace= False)\n",
        "df = pd.concat([ reduce_samp_1,df_with_0])\n",
        "df = df.sample(frac=1) #suffling df\n",
        "df['Behavior'].value_counts()"
      ]
    },
    {
      "cell_type": "code",
      "execution_count": null,
      "metadata": {
        "id": "gRfOb23gTdtm",
        "colab": {
          "base_uri": "https://localhost:8080/"
        },
        "outputId": "d3197955-d4d8-4c83-ead6-316afe3ce866"
      },
      "outputs": [
        {
          "output_type": "execute_result",
          "data": {
            "text/plain": [
              "(1050, 82)"
            ]
          },
          "metadata": {},
          "execution_count": 82
        }
      ],
      "source": [
        "df.shape"
      ]
    },
    {
      "cell_type": "code",
      "execution_count": null,
      "metadata": {
        "id": "nYXmbcy_TdwG"
      },
      "outputs": [],
      "source": [
        "#dataset splitting\n",
        "from sklearn.model_selection import train_test_split\n",
        "X = df.drop(columns=['Behavior'])\n",
        "y = df['Behavior']\n",
        "X_train, X_test, y_train, y_test = train_test_split(X, y, test_size=0.2, random_state=1)"
      ]
    },
    {
      "cell_type": "markdown",
      "source": [
        "Model training & testing (Supervised)\n",
        "\n",
        "KNN  (for classification problem)\n",
        "\n",
        "Linear Regression (for regression problem)\n",
        "\n",
        "Neural Network (for classification/regression problem)\n"
      ],
      "metadata": {
        "id": "lB9otiCa_g_O"
      }
    },
    {
      "cell_type": "code",
      "source": [
        "#KNN\n",
        "from sklearn.neighbors import KNeighborsClassifier\n",
        "from sklearn.metrics import accuracy_score, classification_report, confusion_matrix\n",
        "\n",
        "# KNN model\n",
        "knn = KNeighborsClassifier(n_neighbors=5)\n",
        "# Explicitly convert y_train and y_test to integer type\n",
        "knn.fit(X_train, y_train.astype(int))\n",
        "\n",
        "# Predictions\n",
        "y_pred_knn = knn.predict(X_test)\n",
        "\n",
        "# Evaluation\n",
        "print(\"KNN Accuracy:\", accuracy_score(y_test.astype(int), y_pred_knn))\n",
        "print(\"\\nClassification Report:\\n\", classification_report(y_test.astype(int), y_pred_knn))\n",
        "print(\"\\nConfusion Matrix:\\n\", confusion_matrix(y_test.astype(int), y_pred_knn))"
      ],
      "metadata": {
        "id": "D--bzOPeq71J",
        "colab": {
          "base_uri": "https://localhost:8080/"
        },
        "outputId": "49698b7f-7ddf-4f99-8b06-7dee68afdeb7"
      },
      "execution_count": null,
      "outputs": [
        {
          "output_type": "stream",
          "name": "stdout",
          "text": [
            "KNN Accuracy: 1.0\n",
            "\n",
            "Classification Report:\n",
            "               precision    recall  f1-score   support\n",
            "\n",
            "           0       1.00      1.00      1.00       107\n",
            "           1       1.00      1.00      1.00       103\n",
            "\n",
            "    accuracy                           1.00       210\n",
            "   macro avg       1.00      1.00      1.00       210\n",
            "weighted avg       1.00      1.00      1.00       210\n",
            "\n",
            "\n",
            "Confusion Matrix:\n",
            " [[107   0]\n",
            " [  0 103]]\n"
          ]
        }
      ]
    },
    {
      "cell_type": "markdown",
      "source": [
        "Logistic Regression Analysis"
      ],
      "metadata": {
        "id": "7CobNTKfSfou"
      }
    },
    {
      "cell_type": "code",
      "source": [
        "from sklearn.linear_model import LogisticRegression  #Logistic\n",
        "log_reg = LogisticRegression(random_state=42)\n",
        "log_reg.fit(X_train, y_train)\n",
        "\n",
        "# Predict class\n",
        "y_pred = log_reg.predict(X_test)\n",
        "print(\"Logistic Regression Accuracy:\", accuracy_score(y_test, y_pred))\n",
        "print(\"\\nClassification Report:\\n\", classification_report(y_test, y_pred))\n",
        "print(\"\\nConfusion Matrix:\\n\", confusion_matrix(y_test, y_pred))"
      ],
      "metadata": {
        "id": "wJoPTi3xRIAP",
        "colab": {
          "base_uri": "https://localhost:8080/"
        },
        "outputId": "3cb8360a-8319-47f8-9618-863873c1a45f"
      },
      "execution_count": null,
      "outputs": [
        {
          "output_type": "stream",
          "name": "stdout",
          "text": [
            "Logistic Regression Accuracy: 1.0\n",
            "\n",
            "Classification Report:\n",
            "               precision    recall  f1-score   support\n",
            "\n",
            "           0       1.00      1.00      1.00       107\n",
            "           1       1.00      1.00      1.00       103\n",
            "\n",
            "    accuracy                           1.00       210\n",
            "   macro avg       1.00      1.00      1.00       210\n",
            "weighted avg       1.00      1.00      1.00       210\n",
            "\n",
            "\n",
            "Confusion Matrix:\n",
            " [[107   0]\n",
            " [  0 103]]\n"
          ]
        }
      ]
    },
    {
      "cell_type": "markdown",
      "source": [
        "\n",
        "**** Treat the problem as an unsupervised learning problem, apply Kmeans and showcase the clusters****\n",
        "K-Means clustering (unsupervised)"
      ],
      "metadata": {
        "id": "RJryEvskPwFk"
      }
    },
    {
      "cell_type": "code",
      "source": [
        "from sklearn.cluster import KMeans\n",
        "# K-Means clustering (unsupervised)\n",
        "kmeans = KMeans(n_clusters=2, random_state=1)\n",
        "kmeans.fit(X_train)\n",
        "cluster_labels = kmeans.predict(X_test)\n",
        "print(\"K-Means Cluster Labels:\\n\", cluster_labels)"
      ],
      "metadata": {
        "id": "82ahuvd7OslI",
        "colab": {
          "base_uri": "https://localhost:8080/"
        },
        "outputId": "f591fa9f-a787-4c46-abe4-49c083141390"
      },
      "execution_count": null,
      "outputs": [
        {
          "output_type": "stream",
          "name": "stdout",
          "text": [
            "K-Means Cluster Labels:\n",
            " [1 0 0 1 1 0 0 0 0 0 0 1 1 1 1 0 0 1 0 1 1 1 0 1 1 1 1 1 1 1 1 1 1 1 0 1 1\n",
            " 1 1 0 0 0 1 1 0 1 1 0 0 0 1 0 1 0 1 1 1 0 1 1 1 1 0 1 1 1 0 1 1 0 1 1 0 1\n",
            " 1 1 0 1 0 0 0 0 1 1 1 0 1 0 1 1 0 1 0 0 1 0 1 1 1 1 0 0 1 0 0 0 0 0 1 1 0\n",
            " 1 1 1 1 0 0 1 0 0 1 0 1 1 1 0 0 1 0 0 1 1 0 1 1 1 1 1 1 1 1 1 0 0 1 0 1 1\n",
            " 1 1 1 1 0 0 0 1 1 0 1 0 1 1 0 1 1 1 1 1 0 0 0 1 1 0 0 0 1 1 0 1 1 1 0 0 0\n",
            " 1 0 1 0 0 0 0 0 1 1 0 1 1 1 1 1 1 1 1 0 0 0 1 0 0]\n"
          ]
        }
      ]
    },
    {
      "cell_type": "code",
      "source": [
        "from sklearn.decomposition import PCA\n",
        "pca = PCA(n_components=2)\n",
        "X_test_2d = pca.fit_transform(X_test)\n",
        "\n",
        "plt.figure(figsize=(10, 6))\n",
        "scatter = plt.scatter(X_test_2d[:, 0], X_test_2d[:, 1], c=cluster_labels, cmap='viridis', alpha=0.7)\n",
        "plt.colorbar(scatter)\n",
        "plt.title('K-Means Clustering Results')\n",
        "plt.show()\n",
        "#clustter 1 yellow\n",
        "#clustter 0 purple"
      ],
      "metadata": {
        "colab": {
          "base_uri": "https://localhost:8080/",
          "height": 545
        },
        "id": "mlbRs5Voavnj",
        "outputId": "a0a7049f-db78-428d-ed09-db193dccc5a7"
      },
      "execution_count": null,
      "outputs": [
        {
          "output_type": "display_data",
          "data": {
            "text/plain": [
              "<Figure size 1000x600 with 2 Axes>"
            ],
            "image/png": "[encoded data removed]"
          },
          "metadata": {}
        }
      ]
    },
    {
      "cell_type": "markdown",
      "source": [
        "Model selection/Comparison analysis\n",
        "\n",
        "Bar chart showcasing prediction accuracy of all models (for classification)\n",
        "\n",
        "Precision, recall comparison of each model. (for classification)\n",
        "\n",
        "Confusion Matrix (for classification)\n",
        "\n",
        "AUC score, ROC curve (for classification)\n",
        "\n",
        "R2 score and Loss (for regression)\n"
      ],
      "metadata": {
        "id": "MM6mJxWeAHOf"
      }
    },
    {
      "cell_type": "code",
      "source": [
        "#model selection / comparison\n",
        "labels = ['Decision Tree', 'Random Forest', 'XGBClassifier']\n",
        "values = [0.93, 0.96, 0.93]\n",
        "\n",
        "plt.bar(labels, values)\n",
        "plt.xlabel(\"Model\")\n",
        "plt.ylabel(\"Accuracy\")\n",
        "plt.title(\"Bar Chart of Model Accuracies\")\n",
        "plt.show()"
      ],
      "metadata": {
        "id": "hbADZjhlYjCH",
        "colab": {
          "base_uri": "https://localhost:8080/",
          "height": 472
        },
        "outputId": "42325a09-f5ee-4993-da02-36135523dde8"
      },
      "execution_count": null,
      "outputs": [
        {
          "output_type": "display_data",
          "data": {
            "text/plain": [
              "<Figure size 640x480 with 1 Axes>"
            ],
            "image/png": "[encoded data removed]"
          },
          "metadata": {}
        }
      ]
    },
    {
      "cell_type": "code",
      "source": [
        "#Precision, recall comparison of each model. (for classification)\n",
        "from sklearn.metrics import confusion_matrix, precision_score, recall_score\n",
        "classifiers = [DecisionTreeClassifier(random_state=7), RandomForestClassifier(random_state=2), XGBClassifier(random_state=2)]\n",
        "for model in classifiers:\n",
        "    model.fit(X_train, y_train)\n",
        "    y_pred = model.predict(X_test)\n",
        "    cm = confusion_matrix(y_test, y_pred)\n",
        "    precision = precision_score(y_test, y_pred)\n",
        "    recall = recall_score(y_test, y_pred)\n",
        "\n",
        "    print(f\"\\n{type(model).__name__}:\")\n",
        "    print(f\"  Precision: {precision:.4f}\")\n",
        "    print(f\"  Recall: {recall:.4f}\")\n",
        "    print(f\"  Confusion Matrix:\\n{cm}\")"
      ],
      "metadata": {
        "id": "fsD2eTaRYjLz",
        "colab": {
          "base_uri": "https://localhost:8080/"
        },
        "outputId": "32ab0571-ba4c-41b9-c69d-91227265f561"
      },
      "execution_count": null,
      "outputs": [
        {
          "output_type": "stream",
          "name": "stdout",
          "text": [
            "\n",
            "DecisionTreeClassifier:\n",
            "  Precision: 1.0000\n",
            "  Recall: 1.0000\n",
            "  Confusion Matrix:\n",
            "[[101   0]\n",
            " [  0 109]]\n",
            "\n",
            "RandomForestClassifier:\n",
            "  Precision: 1.0000\n",
            "  Recall: 1.0000\n",
            "  Confusion Matrix:\n",
            "[[101   0]\n",
            " [  0 109]]\n",
            "\n",
            "XGBClassifier:\n",
            "  Precision: 1.0000\n",
            "  Recall: 1.0000\n",
            "  Confusion Matrix:\n",
            "[[101   0]\n",
            " [  0 109]]\n"
          ]
        }
      ]
    },
    {
      "cell_type": "code",
      "metadata": {
        "id": "a18f3be7",
        "colab": {
          "base_uri": "https://localhost:8080/",
          "height": 1000
        },
        "outputId": "c7c038ea-41ec-4aaf-bf9d-0a4cb7e576ec"
      },
      "source": [
        "#Confusion Matrix (for classification)\n",
        "import seaborn as sns\n",
        "from sklearn.tree import DecisionTreeClassifier\n",
        "from sklearn.ensemble import RandomForestClassifier\n",
        "from xgboost import XGBClassifier\n",
        "from sklearn.metrics import confusion_matrix, ConfusionMatrixDisplay\n",
        "import matplotlib.pyplot as plt\n",
        "from sklearn.model_selection import train_test_split\n",
        "\n",
        "# Assuming df contains the preprocessed mice protein data\n",
        "X = df.drop(columns=['Behavior'])\n",
        "y = df['Behavior']\n",
        "X_train, X_test, y_train, y_test = train_test_split(X, y, test_size=0.2, random_state=1, stratify = y)\n",
        "\n",
        "\n",
        "classifiers = [DecisionTreeClassifier(random_state=7), RandomForestClassifier(random_state=2), XGBClassifier(random_state=2)]\n",
        "\n",
        "for model in classifiers :\n",
        "    model.fit(X_train,y_train)\n",
        "    y_pred = model.predict(X_test)\n",
        "    cm = confusion_matrix(y_test,y_pred)\n",
        "\n",
        "    disp = ConfusionMatrixDisplay(confusion_matrix=cm, display_labels=['0', '1'])\n",
        "    disp.plot(cmap='Blues')\n",
        "    plt.title(f'Confusion Matrix for {type(model).__name__}')\n",
        "    plt.show()"
      ],
      "execution_count": null,
      "outputs": [
        {
          "output_type": "display_data",
          "data": {
            "text/plain": [
              "<Figure size 640x480 with 2 Axes>"
            ],
            "image/png": "[encoded data removed]"
          },
          "metadata": {}
        },
        {
          "output_type": "display_data",
          "data": {
            "text/plain": [
              "<Figure size 640x480 with 2 Axes>"
            ],
            "image/png": "[encoded data removed]"
          },
          "metadata": {}
        },
        {
          "output_type": "display_data",
          "data": {
            "text/plain": [
              "<Figure size 640x480 with 2 Axes>"
            ],
            "image/png": "[encoded data removed]"
          },
          "metadata": {}
        }
      ]
    },
    {
      "cell_type": "code",
      "source": [
        "import matplotlib.pyplot as plt\n",
        "from sklearn.model_selection import train_test_split\n",
        "from sklearn.preprocessing import LabelEncoder, StandardScaler\n",
        "from sklearn.metrics import roc_curve, auc\n",
        "from sklearn.tree import DecisionTreeClassifier\n",
        "from sklearn.ensemble import RandomForestClassifier\n",
        "from xgboost import XGBClassifier\n",
        "from sklearn.datasets import make_classification\n",
        "\n",
        "# Example dataset\n",
        "X, y = make_classification(n_samples=1000, n_features=20, n_classes=2,\n",
        "                           n_informative=5, n_redundant=2, random_state=42)\n",
        "\n",
        "# Split dataset\n",
        "X_train, X_test, y_train, y_test = train_test_split(X, y, test_size=0.3, random_state=42)\n",
        "\n",
        "# Initialize classifiers\n",
        "classifiers = {\n",
        "    \"DecisionTreeClassifier\": DecisionTreeClassifier(),\n",
        "    \"RandomForestClassifier\": RandomForestClassifier(),\n",
        "    \"XGBClassifier\": XGBClassifier(use_label_encoder=False, eval_metric='logloss')\n",
        "}\n",
        "\n",
        "# Plot setup\n",
        "plt.figure(figsize=(10, 8))\n",
        "\n",
        "for name, clf in classifiers.items():\n",
        "    clf.fit(X_train, y_train)\n",
        "    y_prob = clf.predict_proba(X_test)[:, 1]\n",
        "    fpr, tpr, _ = roc_curve(y_test, y_prob)\n",
        "    roc_auc = auc(fpr, tpr)\n",
        "    plt.plot(fpr, tpr, lw=2, label=f'{name} (AUC = {roc_auc:.3f})')\n",
        "\n",
        "# Plot random guess line\n",
        "plt.plot([0, 1], [0, 1], color='black', lw=2, linestyle='--', label='Random Guess (AUC = 0.5)')\n",
        "\n",
        "# Labels and legend\n",
        "plt.xlabel('False Positive Rate')\n",
        "plt.ylabel('True Positive Rate')\n",
        "plt.title('ROC Curve Comparison')\n",
        "plt.legend(loc='lower right')\n",
        "plt.grid(True)\n",
        "plt.show()\n"
      ],
      "metadata": {
        "colab": {
          "base_uri": "https://localhost:8080/",
          "height": 787
        },
        "id": "x5YPERfQvhQH",
        "outputId": "abbbe2d2-e18f-4f6c-8e3a-d408d8256010"
      },
      "execution_count": null,
      "outputs": [
        {
          "output_type": "stream",
          "name": "stderr",
          "text": [
            "/usr/local/lib/python3.12/dist-packages/xgboost/training.py:183: UserWarning: [19:06:01] WARNING: /workspace/src/learner.cc:738: \n",
            "Parameters: { \"use_label_encoder\" } are not used.\n",
            "\n",
            "  bst.update(dtrain, iteration=i, fobj=obj)\n"
          ]
        },
        {
          "output_type": "display_data",
          "data": {
            "text/plain": [
              "<Figure size 1000x800 with 1 Axes>"
            ],
            "image/png": "[encoded data removed]"
          },
          "metadata": {}
        }
      ]
    },
    {
      "cell_type": "code",
      "source": [
        "#R2 score and Loss (for regression)\n",
        "import numpy as np\n",
        "from sklearn.model_selection import train_test_split\n",
        "from sklearn.linear_model import LinearRegression\n",
        "from sklearn.metrics import r2_score, mean_squared_error\n",
        "\n",
        "# Generate example data with noise\n",
        "np.random.seed(42)\n",
        "X = 2 * np.random.rand(100, 1)          # Features\n",
        "y = 4 + 3 * X.squeeze() + np.random.randn(100) * 2  # Target with noise\n",
        "\n",
        "# Split data\n",
        "X_train, X_test, y_train, y_test = train_test_split(X, y, test_size=0.2, random_state=42)\n",
        "\n",
        "# Train Linear Regression\n",
        "reg = LinearRegression()\n",
        "reg.fit(X_train, y_train)\n",
        "\n",
        "# Predictions\n",
        "y_pred = reg.predict(X_test)\n",
        "\n",
        "# Evaluate\n",
        "r2 = r2_score(y_test, y_pred)\n",
        "mse = mean_squared_error(y_test, y_pred)\n",
        "\n",
        "print(\"R² Score:\", r2)\n",
        "print(\"Mean Squared Error :\", mse)\n"
      ],
      "metadata": {
        "colab": {
          "base_uri": "https://localhost:8080/"
        },
        "id": "DKf5FZVRz0zv",
        "outputId": "f0fb22c7-f751-4ae2-8d79-c0164ea7e9ec"
      },
      "execution_count": null,
      "outputs": [
        {
          "output_type": "stream",
          "name": "stdout",
          "text": [
            "R² Score: 0.4203137289819706\n",
            "Mean Squared Error : 2.6147980548680083\n"
          ]
        }
      ]
    },
    {
      "cell_type": "code",
      "source": [
        "import numpy as np\n",
        "from sklearn.model_selection import train_test_split\n",
        "from sklearn.linear_model import LinearRegression\n",
        "from sklearn.metrics import r2_score, mean_squared_error\n",
        "\n",
        "# Example data (features X and target y) with some noise\n",
        "np.random.seed(42)\n",
        "X = 2 * np.random.rand(100, 1)\n",
        "y = 4 + 3 * X.squeeze() + np.random.randn(100) * 2  # target with noise\n",
        "\n",
        "# Split dataset into training and testing sets\n",
        "X_train, X_test, y_train, y_test = train_test_split(X, y, test_size=0.2, random_state=42)\n",
        "\n",
        "# Train Linear Regression model\n",
        "reg = LinearRegression()\n",
        "reg.fit(X_train, y_train)\n",
        "\n",
        "# Predict on test set\n",
        "y_pred = reg.predict(X_test)\n",
        "\n",
        "# Compute R² score and Mean Squared Error (loss)\n",
        "r2 = r2_score(y_test, y_pred)\n",
        "mse = mean_squared_error(y_test, y_pred)\n",
        "\n",
        "print(\"R² Score:\", r2)\n",
        "print(\"Mean Squared Error (Loss):\", mse)\n"
      ],
      "metadata": {
        "colab": {
          "base_uri": "https://localhost:8080/"
        },
        "id": "VHbMZfU20Bkx",
        "outputId": "83db5527-0f42-4286-d721-da854374acb5"
      },
      "execution_count": null,
      "outputs": [
        {
          "output_type": "stream",
          "name": "stdout",
          "text": [
            "R² Score: 0.4203137289819706\n",
            "Mean Squared Error (Loss): 2.6147980548680083\n"
          ]
        }
      ]
    },
    {
      "cell_type": "code",
      "source": [
        "#regression\n",
        "from sklearn.datasets import fetch_california_housing\n",
        "data = fetch_california_housing()"
      ],
      "metadata": {
        "id": "5XHNIsxIoZqQ"
      },
      "execution_count": null,
      "outputs": []
    },
    {
      "cell_type": "code",
      "source": [
        "print(data.keys())"
      ],
      "metadata": {
        "id": "yZAtj0NmqbOK",
        "colab": {
          "base_uri": "https://localhost:8080/"
        },
        "outputId": "a09c8f13-6d4a-4179-b3d8-30af7ef6584f"
      },
      "execution_count": null,
      "outputs": [
        {
          "output_type": "stream",
          "name": "stdout",
          "text": [
            "dict_keys(['data', 'target', 'frame', 'target_names', 'feature_names', 'DESCR'])\n"
          ]
        }
      ]
    },
    {
      "cell_type": "code",
      "source": [
        "from sklearn.datasets import fetch_california_housing\n",
        "from sklearn.model_selection import train_test_split\n",
        "\n",
        "# Load the data\n",
        "data = fetch_california_housing()\n",
        "X, y = data.data, data.target\n",
        "\n",
        "# Split into training and testing sets (80% train, 20% test)\n",
        "X_train, X_test, y_train, y_test = train_test_split(X, y, test_size=0.2, random_state=42)"
      ],
      "metadata": {
        "id": "zQf5e8DwqbQ7"
      },
      "execution_count": null,
      "outputs": []
    },
    {
      "cell_type": "code",
      "source": [
        "# The Linear Regression model 'regr' was trained on the mice protein data.\n",
        "\n",
        "\n",
        "# Train a new Linear Regression model on the California Housing data\n",
        "regr_housing = LinearRegression()\n",
        "regr_housing.fit(X_train, y_train)\n",
        "\n",
        "# Evaluate the retrained model on the California Housing test set\n",
        "print(\"The score of the Linear Regression model on the California Housing test set is {:.2f}\".format(regr_housing.score(X_test, y_test)))"
      ],
      "metadata": {
        "id": "D8YAnWIcq7kJ",
        "colab": {
          "base_uri": "https://localhost:8080/"
        },
        "outputId": "b1a56cc3-d35a-4b54-928e-3737296d2bc2"
      },
      "execution_count": null,
      "outputs": [
        {
          "output_type": "stream",
          "name": "stdout",
          "text": [
            "The score of the Linear Regression model on the California Housing test set is 0.58\n"
          ]
        }
      ]
    },
    {
      "cell_type": "code",
      "source": [
        "print(\"The Training accuracy of the model is {:.2f}\".format(regr_housing.score(X_train, y_train)))\n",
        "print(\"The Testing accuracy of the model is {:.2f}\".format(regr_housing.score(X_test, y_test)))"
      ],
      "metadata": {
        "id": "bv3B8eBhq7m_",
        "colab": {
          "base_uri": "https://localhost:8080/"
        },
        "outputId": "cd435ea5-08dd-497f-82bc-d7fb80b8b488"
      },
      "execution_count": null,
      "outputs": [
        {
          "output_type": "stream",
          "name": "stdout",
          "text": [
            "The Training accuracy of the model is 0.61\n",
            "The Testing accuracy of the model is 0.58\n"
          ]
        }
      ]
    },
    {
      "cell_type": "code",
      "source": [
        "predictions = regr_housing.predict(X_test)\n",
        "print(predictions)"
      ],
      "metadata": {
        "id": "ZMQa4Oruq7p2",
        "colab": {
          "base_uri": "https://localhost:8080/"
        },
        "outputId": "566c685f-111c-4df1-f838-4f9dd6d1f31c"
      },
      "execution_count": null,
      "outputs": [
        {
          "output_type": "stream",
          "name": "stdout",
          "text": [
            "[0.71912284 1.76401657 2.70965883 ... 4.46877017 1.18751119 2.00940251]\n"
          ]
        }
      ]
    },
    {
      "cell_type": "code",
      "source": [
        "print(\"The coefficients of the function are {}\".format(regr_housing.coef_))\n",
        "print(\"The intercept of the function is {}\".format(regr_housing.intercept_))"
      ],
      "metadata": {
        "id": "YItI6joOq7st",
        "colab": {
          "base_uri": "https://localhost:8080/"
        },
        "outputId": "496c99a0-3593-47ab-e0e1-12f1cf6a5f5b"
      },
      "execution_count": null,
      "outputs": [
        {
          "output_type": "stream",
          "name": "stdout",
          "text": [
            "The coefficients of the function are [ 4.48674910e-01  9.72425752e-03 -1.23323343e-01  7.83144907e-01\n",
            " -2.02962058e-06 -3.52631849e-03 -4.19792487e-01 -4.33708065e-01]\n",
            "The intercept of the function is -37.02327770606391\n"
          ]
        }
      ]
    }
  ],
  "metadata": {
    "colab": {
      "provenance": []
    },
    "kernelspec": {
      "display_name": "Python 3",
      "name": "python3"
    },
    "language_info": {
      "name": "python"
    }
  },
  "nbformat": 4,
  "nbformat_minor": 0
}